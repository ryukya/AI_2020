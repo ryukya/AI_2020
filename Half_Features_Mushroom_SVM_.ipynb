{
  "nbformat": 4,
  "nbformat_minor": 0,
  "metadata": {
    "colab": {
      "name": "Half Features Mushroom SVM .ipynb",
      "provenance": [],
      "toc_visible": true,
      "include_colab_link": true
    },
    "kernelspec": {
      "name": "python3",
      "display_name": "Python 3"
    }
  },
  "cells": [
    {
      "cell_type": "markdown",
      "metadata": {
        "id": "view-in-github",
        "colab_type": "text"
      },
      "source": [
        "<a href=\"https://colab.research.google.com/github/ryukya/AI_2020/blob/SVM/Half_Features_Mushroom_SVM_.ipynb\" target=\"_parent\"><img src=\"https://colab.research.google.com/assets/colab-badge.svg\" alt=\"Open In Colab\"/></a>"
      ]
    },
    {
      "cell_type": "markdown",
      "metadata": {
        "id": "dmeRjYzgkmba",
        "colab_type": "text"
      },
      "source": [
        "##Data preparation"
      ]
    },
    {
      "cell_type": "code",
      "metadata": {
        "id": "4nQ0oC0fhN-Z",
        "colab_type": "code",
        "outputId": "2c4e10fa-e771-44ca-ce54-57f670fd2546",
        "colab": {
          "base_uri": "https://localhost:8080/",
          "height": 278
        }
      },
      "source": [
        "import pandas as pd\n",
        "from sklearn.preprocessing import LabelEncoder\n",
        "from sklearn.utils import shuffle\n",
        "from sklearn.model_selection import train_test_split\n",
        "import numpy as np\n",
        "\n",
        "##load data\n",
        "df_mushroom = pd.read_csv('mushrooms.csv')\n",
        "\n",
        "##transform value\n",
        "lb=LabelEncoder()\n",
        "df_mushroom=df_mushroom.apply(lb.fit_transform)\n",
        "datas=df_mushroom.rename(columns={ \"class\": \"lab\"}, errors=\"raise\")\n",
        "\n",
        "datas.head()\n"
      ],
      "execution_count": 1,
      "outputs": [
        {
          "output_type": "execute_result",
          "data": {
            "text/html": [
              "<div>\n",
              "<style scoped>\n",
              "    .dataframe tbody tr th:only-of-type {\n",
              "        vertical-align: middle;\n",
              "    }\n",
              "\n",
              "    .dataframe tbody tr th {\n",
              "        vertical-align: top;\n",
              "    }\n",
              "\n",
              "    .dataframe thead th {\n",
              "        text-align: right;\n",
              "    }\n",
              "</style>\n",
              "<table border=\"1\" class=\"dataframe\">\n",
              "  <thead>\n",
              "    <tr style=\"text-align: right;\">\n",
              "      <th></th>\n",
              "      <th>lab</th>\n",
              "      <th>cap-shape</th>\n",
              "      <th>cap-surface</th>\n",
              "      <th>cap-color</th>\n",
              "      <th>bruises</th>\n",
              "      <th>odor</th>\n",
              "      <th>gill-attachment</th>\n",
              "      <th>gill-spacing</th>\n",
              "      <th>gill-size</th>\n",
              "      <th>gill-color</th>\n",
              "      <th>stalk-shape</th>\n",
              "      <th>stalk-root</th>\n",
              "      <th>stalk-surface-above-ring</th>\n",
              "      <th>stalk-surface-below-ring</th>\n",
              "      <th>stalk-color-above-ring</th>\n",
              "      <th>stalk-color-below-ring</th>\n",
              "      <th>veil-type</th>\n",
              "      <th>veil-color</th>\n",
              "      <th>ring-number</th>\n",
              "      <th>ring-type</th>\n",
              "      <th>spore-print-color</th>\n",
              "      <th>population</th>\n",
              "      <th>habitat</th>\n",
              "    </tr>\n",
              "  </thead>\n",
              "  <tbody>\n",
              "    <tr>\n",
              "      <th>0</th>\n",
              "      <td>1</td>\n",
              "      <td>5</td>\n",
              "      <td>2</td>\n",
              "      <td>4</td>\n",
              "      <td>1</td>\n",
              "      <td>6</td>\n",
              "      <td>1</td>\n",
              "      <td>0</td>\n",
              "      <td>1</td>\n",
              "      <td>4</td>\n",
              "      <td>0</td>\n",
              "      <td>3</td>\n",
              "      <td>2</td>\n",
              "      <td>2</td>\n",
              "      <td>7</td>\n",
              "      <td>7</td>\n",
              "      <td>0</td>\n",
              "      <td>2</td>\n",
              "      <td>1</td>\n",
              "      <td>4</td>\n",
              "      <td>2</td>\n",
              "      <td>3</td>\n",
              "      <td>5</td>\n",
              "    </tr>\n",
              "    <tr>\n",
              "      <th>1</th>\n",
              "      <td>0</td>\n",
              "      <td>5</td>\n",
              "      <td>2</td>\n",
              "      <td>9</td>\n",
              "      <td>1</td>\n",
              "      <td>0</td>\n",
              "      <td>1</td>\n",
              "      <td>0</td>\n",
              "      <td>0</td>\n",
              "      <td>4</td>\n",
              "      <td>0</td>\n",
              "      <td>2</td>\n",
              "      <td>2</td>\n",
              "      <td>2</td>\n",
              "      <td>7</td>\n",
              "      <td>7</td>\n",
              "      <td>0</td>\n",
              "      <td>2</td>\n",
              "      <td>1</td>\n",
              "      <td>4</td>\n",
              "      <td>3</td>\n",
              "      <td>2</td>\n",
              "      <td>1</td>\n",
              "    </tr>\n",
              "    <tr>\n",
              "      <th>2</th>\n",
              "      <td>0</td>\n",
              "      <td>0</td>\n",
              "      <td>2</td>\n",
              "      <td>8</td>\n",
              "      <td>1</td>\n",
              "      <td>3</td>\n",
              "      <td>1</td>\n",
              "      <td>0</td>\n",
              "      <td>0</td>\n",
              "      <td>5</td>\n",
              "      <td>0</td>\n",
              "      <td>2</td>\n",
              "      <td>2</td>\n",
              "      <td>2</td>\n",
              "      <td>7</td>\n",
              "      <td>7</td>\n",
              "      <td>0</td>\n",
              "      <td>2</td>\n",
              "      <td>1</td>\n",
              "      <td>4</td>\n",
              "      <td>3</td>\n",
              "      <td>2</td>\n",
              "      <td>3</td>\n",
              "    </tr>\n",
              "    <tr>\n",
              "      <th>3</th>\n",
              "      <td>1</td>\n",
              "      <td>5</td>\n",
              "      <td>3</td>\n",
              "      <td>8</td>\n",
              "      <td>1</td>\n",
              "      <td>6</td>\n",
              "      <td>1</td>\n",
              "      <td>0</td>\n",
              "      <td>1</td>\n",
              "      <td>5</td>\n",
              "      <td>0</td>\n",
              "      <td>3</td>\n",
              "      <td>2</td>\n",
              "      <td>2</td>\n",
              "      <td>7</td>\n",
              "      <td>7</td>\n",
              "      <td>0</td>\n",
              "      <td>2</td>\n",
              "      <td>1</td>\n",
              "      <td>4</td>\n",
              "      <td>2</td>\n",
              "      <td>3</td>\n",
              "      <td>5</td>\n",
              "    </tr>\n",
              "    <tr>\n",
              "      <th>4</th>\n",
              "      <td>0</td>\n",
              "      <td>5</td>\n",
              "      <td>2</td>\n",
              "      <td>3</td>\n",
              "      <td>0</td>\n",
              "      <td>5</td>\n",
              "      <td>1</td>\n",
              "      <td>1</td>\n",
              "      <td>0</td>\n",
              "      <td>4</td>\n",
              "      <td>1</td>\n",
              "      <td>3</td>\n",
              "      <td>2</td>\n",
              "      <td>2</td>\n",
              "      <td>7</td>\n",
              "      <td>7</td>\n",
              "      <td>0</td>\n",
              "      <td>2</td>\n",
              "      <td>1</td>\n",
              "      <td>0</td>\n",
              "      <td>3</td>\n",
              "      <td>0</td>\n",
              "      <td>1</td>\n",
              "    </tr>\n",
              "  </tbody>\n",
              "</table>\n",
              "</div>"
            ],
            "text/plain": [
              "   lab  cap-shape  cap-surface  ...  spore-print-color  population  habitat\n",
              "0    1          5            2  ...                  2           3        5\n",
              "1    0          5            2  ...                  3           2        1\n",
              "2    0          0            2  ...                  3           2        3\n",
              "3    1          5            3  ...                  2           3        5\n",
              "4    0          5            2  ...                  3           0        1\n",
              "\n",
              "[5 rows x 23 columns]"
            ]
          },
          "metadata": {
            "tags": []
          },
          "execution_count": 1
        }
      ]
    },
    {
      "cell_type": "code",
      "metadata": {
        "id": "6Vwf_Hr9jEPI",
        "colab_type": "code",
        "outputId": "d25e0a21-9bdc-4b16-ab09-347f6a071c82",
        "colab": {
          "base_uri": "https://localhost:8080/",
          "height": 156
        }
      },
      "source": [
        "##separate label and features data\n",
        "dt_label = datas['lab']\n",
        "df_mushroom = datas.drop(['lab'],axis=1)\n",
        "##put data to Y \n",
        "Y = []\n",
        "for val in dt_label:\n",
        "    if(val == 1): ## val=1 poisonus\n",
        "        Y.append(-1)\n",
        "    else:\n",
        "        Y.append(1)\n",
        "print(df_mushroom.head())\n"
      ],
      "execution_count": 2,
      "outputs": [
        {
          "output_type": "stream",
          "text": [
            "   cap-shape  cap-surface  cap-color  ...  spore-print-color  population  habitat\n",
            "0          5            2          4  ...                  2           3        5\n",
            "1          5            2          9  ...                  3           2        1\n",
            "2          0            2          8  ...                  3           2        3\n",
            "3          5            3          8  ...                  2           3        5\n",
            "4          5            2          3  ...                  3           0        1\n",
            "\n",
            "[5 rows x 22 columns]\n"
          ],
          "name": "stdout"
        }
      ]
    },
    {
      "cell_type": "markdown",
      "metadata": {
        "id": "osJL5isPHHPC",
        "colab_type": "text"
      },
      "source": [
        "##Removing Random Features ( 50% of Total Features)"
      ]
    },
    {
      "cell_type": "code",
      "metadata": {
        "id": "BD6yFNvCHScn",
        "colab_type": "code",
        "outputId": "8a67d4a3-8251-4826-a35e-2fb358c705b6",
        "colab": {
          "base_uri": "https://localhost:8080/",
          "height": 52
        }
      },
      "source": [
        "from random import seed\n",
        "from random import randint\n",
        "\n",
        "seed(1)\n",
        "cols = []\n",
        "col_tot= len(df_mushroom.columns)\n",
        "half=int(col_tot*0.5)\n",
        "for _ in range(half):\n",
        "\tvalue = randint(0, col_tot)\n",
        "\tcols.append(value)\n",
        "print (cols)\n",
        "\n",
        "df_mushroom.drop(df_mushroom.columns[cols],axis=1,inplace=True)\n",
        "df_mushroom.shape"
      ],
      "execution_count": 3,
      "outputs": [
        {
          "output_type": "stream",
          "text": [
            "[4, 18, 2, 8, 3, 15, 14, 15, 20, 12, 6]\n"
          ],
          "name": "stdout"
        },
        {
          "output_type": "execute_result",
          "data": {
            "text/plain": [
              "(8124, 12)"
            ]
          },
          "metadata": {
            "tags": []
          },
          "execution_count": 3
        }
      ]
    },
    {
      "cell_type": "code",
      "metadata": {
        "id": "yyLAMVZFU_SF",
        "colab_type": "code",
        "colab": {
          "base_uri": "https://localhost:8080/",
          "height": 34
        },
        "outputId": "e583c8c3-f430-46f1-ea23-5f81a5372987"
      },
      "source": [
        "##put data to X\n",
        "X = df_mushroom.values.tolist()\n",
        "\n",
        "## prepare variable\n",
        "x_train = []\n",
        "y_train = []\n",
        "x_test = []\n",
        "y_test = []\n",
        "\n",
        "##split data\n",
        "x_train, x_test, y_train, y_test = train_test_split(X, Y, train_size=0.8, random_state=10)\n",
        "\n",
        "##data leng for data training and testing\n",
        "lengt=len(df_mushroom)\n",
        "train_len= int(0.8*lengt)\n",
        "test_len=int( 0.2*lengt)+1\n",
        "\n",
        "x_train = np.array(x_train)\n",
        "y_train = np.array(y_train)\n",
        "x_test = np.array(x_test)\n",
        "y_test = np.array(y_test)\n",
        "\n",
        "y_train = y_train.reshape(train_len,1)\n",
        "y_test = y_test.reshape(test_len,1)\n",
        "print(\"length: \",lengt,\"---- training:\",train_len,\"----test:\",test_len)\n",
        "\n"
      ],
      "execution_count": 4,
      "outputs": [
        {
          "output_type": "stream",
          "text": [
            "length:  8124 ---- training: 6499 ----test: 1625\n"
          ],
          "name": "stdout"
        }
      ]
    },
    {
      "cell_type": "markdown",
      "metadata": {
        "id": "3Jo5Mn5PZjLU",
        "colab_type": "text"
      },
      "source": [
        "\n",
        "\n",
        "##Evaluation Function"
      ]
    },
    {
      "cell_type": "code",
      "metadata": {
        "id": "P6hnRw4oZn1U",
        "colab_type": "code",
        "colab": {}
      },
      "source": [
        "from sklearn.metrics import classification_report, confusion_matrix\n",
        "from sklearn.metrics import accuracy_score\n",
        "def evaluate (y_test,predictions):\n",
        "  print (\"Accuracy Score\")\n",
        "  print(accuracy_score(y_test,predictions))\n",
        "  print (\"Confusion Matrix\")\n",
        "  print(confusion_matrix(y_test, predictions))\n",
        "  print (\"Classification report\")\n",
        "  print(classification_report(y_test, predictions))"
      ],
      "execution_count": 0,
      "outputs": []
    },
    {
      "cell_type": "markdown",
      "metadata": {
        "id": "llrn7fZXZMSO",
        "colab_type": "text"
      },
      "source": [
        "##SVM Function"
      ]
    },
    {
      "cell_type": "code",
      "metadata": {
        "id": "4IgJFR6ED0ZF",
        "colab_type": "code",
        "colab": {}
      },
      "source": [
        "def svm_f( x_train, x_test, y_train, y_test, train_len,test_len,alpa,epoc):\n",
        "  training=[]\n",
        "  ##train_fx & training reshape \n",
        "  for col in range(x_train.shape[1]):\n",
        "    training.append(x_train[:,col].reshape(train_len,1))\n",
        "  ##make w array (zeros) \n",
        "  w_zeros=[]\n",
        "  for x in training:\n",
        "    w_zeros.append(np.zeros((train_len,1)))\n",
        "  epochs = 1\n",
        "  alpha = alpa\n",
        "  while(epochs < epoc):\n",
        "    ##sum of array in w_zeros*array in training\n",
        "    sumval = None \n",
        "    for xw,yt in zip(w_zeros, training):\n",
        "      xy=xw*yt\n",
        "      if sumval is None:\n",
        "       y1=xy\n",
        "      else:\n",
        "        y1= y1 + xy\n",
        "      sumval =y1 \n",
        "    prod = sumval * y_train\n",
        "    count = 0\n",
        "    for val in prod:\n",
        "      if(val >= 1):\n",
        "        cost = 0\n",
        "        for i in range(len(w_zeros)):\n",
        "         w_zeros[i]= w_zeros[i] - alpha * (2 * 1/epochs * w_zeros[i])\n",
        "      else:\n",
        "        cost = 1 - val\n",
        "        for i in range(len(w_zeros)):\n",
        "         w_zeros[i]= w_zeros[i] + alpha * (training[i][count] * y_train[count] - 2 * 1/epochs * w_zeros[i])\n",
        "      count += 1\n",
        "    epochs += 1\n",
        "  ## Clipping weights  and reshape array\n",
        "  index = list(range(test_len,train_len))\n",
        "  for i in range(len(w_zeros)):\n",
        "    w_zeros[i]=np.delete(w_zeros[i],index)\n",
        "    w_zeros[i] = w_zeros[i].reshape(test_len,1)\n",
        "  ## Extract the test data features \n",
        "  testing=[]\n",
        "  for col in range(x_test.shape[1]):\n",
        "    testing.append(x_test[:,col].reshape(test_len,1))\n",
        "  ## Predict\n",
        "  pred_val = None \n",
        "  for xw,yt in zip(w_zeros, testing):\n",
        "    xy=xw*yt\n",
        "    if pred_val is None:\n",
        "      y1=xy\n",
        "    else:\n",
        "      y1= y1 + xy\n",
        "    pred_val =y1 \n",
        "  #add prediction result into list\n",
        "  predictions = []\n",
        "  for val in pred_val:\n",
        "      if(val > 1):\n",
        "          predictions.append(1)\n",
        "      else:\n",
        "          predictions.append(-1)\n",
        "  evaluate(y_test,predictions)     \n",
        "\n"
      ],
      "execution_count": 0,
      "outputs": []
    },
    {
      "cell_type": "markdown",
      "metadata": {
        "id": "3BYk9Sl0ECbZ",
        "colab_type": "text"
      },
      "source": [
        "##SVM  with alpha= 0.002 and epoch =500"
      ]
    },
    {
      "cell_type": "code",
      "metadata": {
        "id": "iDtvDUngEA1L",
        "colab_type": "code",
        "outputId": "3c1fe560-708b-4bc4-e6d6-8fc4aed16857",
        "colab": {
          "base_uri": "https://localhost:8080/",
          "height": 278
        }
      },
      "source": [
        "alpa=0.002\n",
        "epoc=500\n",
        "svm_f( x_train, x_test, y_train, y_test, train_len,test_len,alpa,epoc)"
      ],
      "execution_count": 7,
      "outputs": [
        {
          "output_type": "stream",
          "text": [
            "Accuracy Score\n",
            "0.5316923076923077\n",
            "Confusion Matrix\n",
            "[[ 20 744]\n",
            " [ 17 844]]\n",
            "Classification report\n",
            "              precision    recall  f1-score   support\n",
            "\n",
            "          -1       0.54      0.03      0.05       764\n",
            "           1       0.53      0.98      0.69       861\n",
            "\n",
            "    accuracy                           0.53      1625\n",
            "   macro avg       0.54      0.50      0.37      1625\n",
            "weighted avg       0.54      0.53      0.39      1625\n",
            "\n"
          ],
          "name": "stdout"
        }
      ]
    },
    {
      "cell_type": "markdown",
      "metadata": {
        "colab_type": "text",
        "id": "5jSwp3jdAVD2"
      },
      "source": [
        "##SVM  with alpha= 0.001 and epoch =1000"
      ]
    },
    {
      "cell_type": "code",
      "metadata": {
        "id": "CvUB-LFxAYzI",
        "colab_type": "code",
        "outputId": "3a652254-0eba-49b0-e1e9-a59c5bc133b6",
        "colab": {
          "base_uri": "https://localhost:8080/",
          "height": 278
        }
      },
      "source": [
        "alpa=0.001\n",
        "epoc=1000\n",
        "svm_f( x_train, x_test, y_train, y_test, train_len,test_len,alpa,epoc)"
      ],
      "execution_count": 8,
      "outputs": [
        {
          "output_type": "stream",
          "text": [
            "Accuracy Score\n",
            "0.5384615384615384\n",
            "Confusion Matrix\n",
            "[[ 31 733]\n",
            " [ 17 844]]\n",
            "Classification report\n",
            "              precision    recall  f1-score   support\n",
            "\n",
            "          -1       0.65      0.04      0.08       764\n",
            "           1       0.54      0.98      0.69       861\n",
            "\n",
            "    accuracy                           0.54      1625\n",
            "   macro avg       0.59      0.51      0.38      1625\n",
            "weighted avg       0.59      0.54      0.40      1625\n",
            "\n"
          ],
          "name": "stdout"
        }
      ]
    },
    {
      "cell_type": "code",
      "metadata": {
        "id": "yXdS9mbCEFrf",
        "colab_type": "code",
        "outputId": "c6dbf3da-13c7-44c4-b745-1ed5276e7381",
        "colab": {
          "base_uri": "https://localhost:8080/",
          "height": 278
        }
      },
      "source": [
        "alpa=0.001\n",
        "epoc=1000\n",
        "svm_f( x_train, x_test, y_train, y_test, train_len,test_len,alpa,epoc)"
      ],
      "execution_count": 9,
      "outputs": [
        {
          "output_type": "stream",
          "text": [
            "Accuracy Score\n",
            "0.5384615384615384\n",
            "Confusion Matrix\n",
            "[[ 31 733]\n",
            " [ 17 844]]\n",
            "Classification report\n",
            "              precision    recall  f1-score   support\n",
            "\n",
            "          -1       0.65      0.04      0.08       764\n",
            "           1       0.54      0.98      0.69       861\n",
            "\n",
            "    accuracy                           0.54      1625\n",
            "   macro avg       0.59      0.51      0.38      1625\n",
            "weighted avg       0.59      0.54      0.40      1625\n",
            "\n"
          ],
          "name": "stdout"
        }
      ]
    },
    {
      "cell_type": "markdown",
      "metadata": {
        "id": "VMMi4favERLz",
        "colab_type": "text"
      },
      "source": [
        "##SVM  with alpha= 0.0005 and epoch =2000"
      ]
    },
    {
      "cell_type": "code",
      "metadata": {
        "id": "mWz6c1NeEUHZ",
        "colab_type": "code",
        "outputId": "df215cba-efb2-4f0b-bb83-2ea3f92e6ff6",
        "colab": {
          "base_uri": "https://localhost:8080/",
          "height": 278
        }
      },
      "source": [
        "alpa=0.0005\n",
        "epoc=2000\n",
        "svm_f( x_train, x_test, y_train, y_test, train_len,test_len,alpa,epoc)"
      ],
      "execution_count": 10,
      "outputs": [
        {
          "output_type": "stream",
          "text": [
            "Accuracy Score\n",
            "0.7175384615384616\n",
            "Confusion Matrix\n",
            "[[337 427]\n",
            " [ 32 829]]\n",
            "Classification report\n",
            "              precision    recall  f1-score   support\n",
            "\n",
            "          -1       0.91      0.44      0.59       764\n",
            "           1       0.66      0.96      0.78       861\n",
            "\n",
            "    accuracy                           0.72      1625\n",
            "   macro avg       0.79      0.70      0.69      1625\n",
            "weighted avg       0.78      0.72      0.69      1625\n",
            "\n"
          ],
          "name": "stdout"
        }
      ]
    },
    {
      "cell_type": "markdown",
      "metadata": {
        "colab_type": "text",
        "id": "mqrQ9t6pRa1g"
      },
      "source": [
        "##SVM  with alpha= 0.0002 and epoch =5000"
      ]
    },
    {
      "cell_type": "code",
      "metadata": {
        "colab_type": "code",
        "id": "G7EszwOoRa1w",
        "colab": {
          "base_uri": "https://localhost:8080/",
          "height": 278
        },
        "outputId": "c491ab39-ab9c-4035-a0c6-0cd91f9f8ea8"
      },
      "source": [
        "alpa=0.0002\n",
        "epoc=5000\n",
        "svm_f( x_train, x_test, y_train, y_test, train_len,test_len,alpa,epoc)"
      ],
      "execution_count": 11,
      "outputs": [
        {
          "output_type": "stream",
          "text": [
            "Accuracy Score\n",
            "0.9618461538461538\n",
            "Confusion Matrix\n",
            "[[723  41]\n",
            " [ 21 840]]\n",
            "Classification report\n",
            "              precision    recall  f1-score   support\n",
            "\n",
            "          -1       0.97      0.95      0.96       764\n",
            "           1       0.95      0.98      0.96       861\n",
            "\n",
            "    accuracy                           0.96      1625\n",
            "   macro avg       0.96      0.96      0.96      1625\n",
            "weighted avg       0.96      0.96      0.96      1625\n",
            "\n"
          ],
          "name": "stdout"
        }
      ]
    },
    {
      "cell_type": "markdown",
      "metadata": {
        "colab_type": "text",
        "id": "Ev0xau8hRcic"
      },
      "source": [
        "##SVM  with alpha= 0.0001 and epoch =10000"
      ]
    },
    {
      "cell_type": "code",
      "metadata": {
        "colab_type": "code",
        "id": "tgRrhHDVRcip",
        "colab": {
          "base_uri": "https://localhost:8080/",
          "height": 278
        },
        "outputId": "b43cd68b-fcc8-467b-9cc9-57e9f6a9d561"
      },
      "source": [
        "alpa=0.0001\n",
        "epoc=10000\n",
        "svm_f( x_train, x_test, y_train, y_test, train_len,test_len,alpa,epoc)"
      ],
      "execution_count": 12,
      "outputs": [
        {
          "output_type": "stream",
          "text": [
            "Accuracy Score\n",
            "0.955076923076923\n",
            "Confusion Matrix\n",
            "[[742  22]\n",
            " [ 51 810]]\n",
            "Classification report\n",
            "              precision    recall  f1-score   support\n",
            "\n",
            "          -1       0.94      0.97      0.95       764\n",
            "           1       0.97      0.94      0.96       861\n",
            "\n",
            "    accuracy                           0.96      1625\n",
            "   macro avg       0.95      0.96      0.95      1625\n",
            "weighted avg       0.96      0.96      0.96      1625\n",
            "\n"
          ],
          "name": "stdout"
        }
      ]
    },
    {
      "cell_type": "markdown",
      "metadata": {
        "id": "oHZERxgO3f18",
        "colab_type": "text"
      },
      "source": [
        "##Result if Using Scikit SVM Library"
      ]
    },
    {
      "cell_type": "code",
      "metadata": {
        "id": "xMdTZhHb3lDp",
        "colab_type": "code",
        "outputId": "0e4e8c89-8b73-462c-c8fd-a8fd8b99146b",
        "colab": {
          "base_uri": "https://localhost:8080/",
          "height": 332
        }
      },
      "source": [
        "from sklearn import svm\n",
        "sv_f = svm.SVC(kernel='linear') # Linear Kernel\n",
        "sv_f.fit(x_train, y_train)\n",
        "y_pred = sv_f.predict(x_test)\n",
        "evaluate(y_test, y_pred)\n"
      ],
      "execution_count": 13,
      "outputs": [
        {
          "output_type": "stream",
          "text": [
            "/usr/local/lib/python3.6/dist-packages/sklearn/utils/validation.py:760: DataConversionWarning: A column-vector y was passed when a 1d array was expected. Please change the shape of y to (n_samples, ), for example using ravel().\n",
            "  y = column_or_1d(y, warn=True)\n"
          ],
          "name": "stderr"
        },
        {
          "output_type": "stream",
          "text": [
            "Accuracy Score\n",
            "0.9403076923076923\n",
            "Confusion Matrix\n",
            "[[720  44]\n",
            " [ 53 808]]\n",
            "Classification report\n",
            "              precision    recall  f1-score   support\n",
            "\n",
            "          -1       0.93      0.94      0.94       764\n",
            "           1       0.95      0.94      0.94       861\n",
            "\n",
            "    accuracy                           0.94      1625\n",
            "   macro avg       0.94      0.94      0.94      1625\n",
            "weighted avg       0.94      0.94      0.94      1625\n",
            "\n"
          ],
          "name": "stdout"
        }
      ]
    }
  ]
}