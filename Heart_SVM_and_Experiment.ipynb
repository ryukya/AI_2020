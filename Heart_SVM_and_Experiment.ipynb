{
  "nbformat": 4,
  "nbformat_minor": 0,
  "metadata": {
    "colab": {
      "name": "Heart SVM and Experiment.ipynb",
      "provenance": [],
      "toc_visible": true,
      "include_colab_link": true
    },
    "kernelspec": {
      "name": "python3",
      "display_name": "Python 3"
    }
  },
  "cells": [
    {
      "cell_type": "markdown",
      "metadata": {
        "id": "view-in-github",
        "colab_type": "text"
      },
      "source": [
        "<a href=\"https://colab.research.google.com/github/ryukya/AI_2020/blob/SVM/Heart_SVM_and_Experiment.ipynb\" target=\"_parent\"><img src=\"https://colab.research.google.com/assets/colab-badge.svg\" alt=\"Open In Colab\"/></a>"
      ]
    },
    {
      "cell_type": "markdown",
      "metadata": {
        "id": "dmeRjYzgkmba",
        "colab_type": "text"
      },
      "source": [
        "##Data preparation"
      ]
    },
    {
      "cell_type": "code",
      "metadata": {
        "id": "4nQ0oC0fhN-Z",
        "colab_type": "code",
        "outputId": "d166da46-83dd-44c3-98f1-2d73b8182d26",
        "colab": {
          "base_uri": "https://localhost:8080/",
          "height": 226
        }
      },
      "source": [
        "import pandas as pd\n",
        "from sklearn.preprocessing import LabelEncoder\n",
        "from sklearn.utils import shuffle\n",
        "from sklearn.model_selection import train_test_split\n",
        "import numpy as np\n",
        "\n",
        "##load data\n",
        "df_heart = pd.read_csv('heart.csv')\n",
        "\n",
        "##transform value\n",
        "lb=LabelEncoder()\n",
        "df_heart=df_heart.apply(lb.fit_transform)\n",
        "datas=df_heart.rename(columns={ \"target\": \"lab\"}, errors=\"raise\")\n",
        "\n",
        "datas.head()\n"
      ],
      "execution_count": 0,
      "outputs": [
        {
          "output_type": "execute_result",
          "data": {
            "text/html": [
              "<div>\n",
              "<style scoped>\n",
              "    .dataframe tbody tr th:only-of-type {\n",
              "        vertical-align: middle;\n",
              "    }\n",
              "\n",
              "    .dataframe tbody tr th {\n",
              "        vertical-align: top;\n",
              "    }\n",
              "\n",
              "    .dataframe thead th {\n",
              "        text-align: right;\n",
              "    }\n",
              "</style>\n",
              "<table border=\"1\" class=\"dataframe\">\n",
              "  <thead>\n",
              "    <tr style=\"text-align: right;\">\n",
              "      <th></th>\n",
              "      <th>age</th>\n",
              "      <th>sex</th>\n",
              "      <th>cp</th>\n",
              "      <th>trestbps</th>\n",
              "      <th>chol</th>\n",
              "      <th>fbs</th>\n",
              "      <th>restecg</th>\n",
              "      <th>thalach</th>\n",
              "      <th>exang</th>\n",
              "      <th>oldpeak</th>\n",
              "      <th>slope</th>\n",
              "      <th>ca</th>\n",
              "      <th>thal</th>\n",
              "      <th>lab</th>\n",
              "    </tr>\n",
              "  </thead>\n",
              "  <tbody>\n",
              "    <tr>\n",
              "      <th>0</th>\n",
              "      <td>29</td>\n",
              "      <td>1</td>\n",
              "      <td>3</td>\n",
              "      <td>31</td>\n",
              "      <td>64</td>\n",
              "      <td>1</td>\n",
              "      <td>0</td>\n",
              "      <td>49</td>\n",
              "      <td>0</td>\n",
              "      <td>22</td>\n",
              "      <td>0</td>\n",
              "      <td>0</td>\n",
              "      <td>1</td>\n",
              "      <td>1</td>\n",
              "    </tr>\n",
              "    <tr>\n",
              "      <th>1</th>\n",
              "      <td>3</td>\n",
              "      <td>1</td>\n",
              "      <td>2</td>\n",
              "      <td>22</td>\n",
              "      <td>80</td>\n",
              "      <td>0</td>\n",
              "      <td>1</td>\n",
              "      <td>84</td>\n",
              "      <td>0</td>\n",
              "      <td>32</td>\n",
              "      <td>0</td>\n",
              "      <td>0</td>\n",
              "      <td>2</td>\n",
              "      <td>1</td>\n",
              "    </tr>\n",
              "    <tr>\n",
              "      <th>2</th>\n",
              "      <td>7</td>\n",
              "      <td>0</td>\n",
              "      <td>1</td>\n",
              "      <td>22</td>\n",
              "      <td>35</td>\n",
              "      <td>0</td>\n",
              "      <td>0</td>\n",
              "      <td>71</td>\n",
              "      <td>0</td>\n",
              "      <td>14</td>\n",
              "      <td>2</td>\n",
              "      <td>0</td>\n",
              "      <td>2</td>\n",
              "      <td>1</td>\n",
              "    </tr>\n",
              "    <tr>\n",
              "      <th>3</th>\n",
              "      <td>22</td>\n",
              "      <td>1</td>\n",
              "      <td>1</td>\n",
              "      <td>14</td>\n",
              "      <td>67</td>\n",
              "      <td>0</td>\n",
              "      <td>1</td>\n",
              "      <td>76</td>\n",
              "      <td>0</td>\n",
              "      <td>8</td>\n",
              "      <td>2</td>\n",
              "      <td>0</td>\n",
              "      <td>2</td>\n",
              "      <td>1</td>\n",
              "    </tr>\n",
              "    <tr>\n",
              "      <th>4</th>\n",
              "      <td>23</td>\n",
              "      <td>0</td>\n",
              "      <td>0</td>\n",
              "      <td>14</td>\n",
              "      <td>145</td>\n",
              "      <td>0</td>\n",
              "      <td>1</td>\n",
              "      <td>62</td>\n",
              "      <td>1</td>\n",
              "      <td>6</td>\n",
              "      <td>2</td>\n",
              "      <td>0</td>\n",
              "      <td>2</td>\n",
              "      <td>1</td>\n",
              "    </tr>\n",
              "  </tbody>\n",
              "</table>\n",
              "</div>"
            ],
            "text/plain": [
              "   age  sex  cp  trestbps  chol  fbs  ...  exang  oldpeak  slope  ca  thal  lab\n",
              "0   29    1   3        31    64    1  ...      0       22      0   0     1    1\n",
              "1    3    1   2        22    80    0  ...      0       32      0   0     2    1\n",
              "2    7    0   1        22    35    0  ...      0       14      2   0     2    1\n",
              "3   22    1   1        14    67    0  ...      0        8      2   0     2    1\n",
              "4   23    0   0        14   145    0  ...      1        6      2   0     2    1\n",
              "\n",
              "[5 rows x 14 columns]"
            ]
          },
          "metadata": {
            "tags": []
          },
          "execution_count": 2
        }
      ]
    },
    {
      "cell_type": "code",
      "metadata": {
        "id": "6Vwf_Hr9jEPI",
        "colab_type": "code",
        "outputId": "7b38d92b-8c71-4e64-bd42-ef6f1380eb6d",
        "colab": {
          "base_uri": "https://localhost:8080/",
          "height": 156
        }
      },
      "source": [
        "##separate label and features data\n",
        "dt_label = datas['lab']\n",
        "df_heart = datas.drop(['lab'],axis=1)\n",
        "##put data to Y \n",
        "Y = []\n",
        "for val in dt_label:\n",
        "    if(val == 1): ## val=1 there is a presence of heart diseases\n",
        "        Y.append(-1)\n",
        "    else:\n",
        "        Y.append(1)\n",
        "print(df_heart.head())"
      ],
      "execution_count": 0,
      "outputs": [
        {
          "output_type": "stream",
          "text": [
            "   age  sex  cp  trestbps  chol  fbs  ...  thalach  exang  oldpeak  slope  ca  thal\n",
            "0   29    1   3        31    64    1  ...       49      0       22      0   0     1\n",
            "1    3    1   2        22    80    0  ...       84      0       32      0   0     2\n",
            "2    7    0   1        22    35    0  ...       71      0       14      2   0     2\n",
            "3   22    1   1        14    67    0  ...       76      0        8      2   0     2\n",
            "4   23    0   0        14   145    0  ...       62      1        6      2   0     2\n",
            "\n",
            "[5 rows x 13 columns]\n"
          ],
          "name": "stdout"
        }
      ]
    },
    {
      "cell_type": "code",
      "metadata": {
        "id": "yyLAMVZFU_SF",
        "colab_type": "code",
        "outputId": "4d2e806a-8363-44c0-9a5c-5960455bef7d",
        "colab": {
          "base_uri": "https://localhost:8080/",
          "height": 34
        }
      },
      "source": [
        "##put data to X\n",
        "X = df_heart.values.tolist()\n",
        "\n",
        "## prepare variable\n",
        "x_train = []\n",
        "y_train = []\n",
        "x_test = []\n",
        "y_test = []\n",
        "\n",
        "##split data\n",
        "x_train, x_test, y_train, y_test = train_test_split(X, Y, train_size=0.8,random_state=10)\n",
        "\n",
        "##data leng for  data training and testing\n",
        "lengt=len(df_heart)\n",
        "train_len= int(0.8*lengt)\n",
        "test_len=int( 0.2*lengt)+1\n",
        "\n",
        "x_train = np.array(x_train)\n",
        "y_train = np.array(y_train)\n",
        "x_test = np.array(x_test)\n",
        "y_test = np.array(y_test)\n",
        "\n",
        "y_train = y_train.reshape(train_len,1)\n",
        "y_test = y_test.reshape(test_len,1)\n",
        "print(\"length: \",lengt,\"---- training:\",train_len,\"----test:\",test_len)\n",
        "\n",
        "\n"
      ],
      "execution_count": 0,
      "outputs": [
        {
          "output_type": "stream",
          "text": [
            "length:  303 ---- training: 242 ----test: 61\n"
          ],
          "name": "stdout"
        }
      ]
    },
    {
      "cell_type": "markdown",
      "metadata": {
        "id": "3Jo5Mn5PZjLU",
        "colab_type": "text"
      },
      "source": [
        "##Evaluation Function"
      ]
    },
    {
      "cell_type": "code",
      "metadata": {
        "id": "P6hnRw4oZn1U",
        "colab_type": "code",
        "colab": {}
      },
      "source": [
        "from sklearn.metrics import classification_report, confusion_matrix\n",
        "from sklearn.metrics import accuracy_score\n",
        "def evaluate (y_test,predictions):\n",
        "  print (\"Accuracy Score\")\n",
        "  print(accuracy_score(y_test,predictions))\n",
        "  print (\"Confusion Matrix\")\n",
        "  print(confusion_matrix(y_test, predictions))\n",
        "  print (\"Classification report\")\n",
        "  print(classification_report(y_test, predictions))"
      ],
      "execution_count": 0,
      "outputs": []
    },
    {
      "cell_type": "markdown",
      "metadata": {
        "id": "0AM4Flt58o7e",
        "colab_type": "text"
      },
      "source": [
        "##SVM Function"
      ]
    },
    {
      "cell_type": "code",
      "metadata": {
        "id": "YwAqFZ3V8uut",
        "colab_type": "code",
        "colab": {}
      },
      "source": [
        "def svm_f( x_train, x_test, y_train, y_test, train_len,test_len,alpa,epoc):\n",
        "  training=[]\n",
        "  ##train_fx & training reshape \n",
        "  for col in range(x_train.shape[1]):\n",
        "    training.append(x_train[:,col].reshape(train_len,1))\n",
        "  ##make w array (zeros) \n",
        "  w_zeros=[]\n",
        "  for x in training:\n",
        "    w_zeros.append(np.zeros((train_len,1)))\n",
        "  epochs = 1\n",
        "  alpha = alpa\n",
        "  while(epochs < epoc):\n",
        "    ##sum of (array in w_zeros*array in training)\n",
        "    sumval = None \n",
        "    for xw,yt in zip(w_zeros, training):\n",
        "      xy=xw*yt\n",
        "      if sumval is None:\n",
        "       y1=xy\n",
        "      else:\n",
        "        y1= y1 + xy\n",
        "      sumval =y1 \n",
        "    prod = sumval * y_train\n",
        "    count = 0\n",
        "    for val in prod:\n",
        "      if(val >= 1):\n",
        "        cost = 0\n",
        "        for i in range(len(w_zeros)):\n",
        "         w_zeros[i]= w_zeros[i] - alpha * (2 * 1/epochs * w_zeros[i])\n",
        "      else:\n",
        "        cost = 1 - val\n",
        "        for i in range(len(w_zeros)):\n",
        "         w_zeros[i]= w_zeros[i] + alpha * (training[i][count] * y_train[count] - 2 * 1/epochs * w_zeros[i])\n",
        "      count += 1\n",
        "    epochs += 1\n",
        "  ## Clipping weights  and reshape array\n",
        "  index = list(range(test_len,train_len))\n",
        "  for i in range(len(w_zeros)):\n",
        "    w_zeros[i]=np.delete(w_zeros[i],index)\n",
        "    w_zeros[i] = w_zeros[i].reshape(test_len,1)\n",
        "  ## Extract the test data features \n",
        "  testing=[]\n",
        "  for col in range(x_test.shape[1]):\n",
        "    testing.append(x_test[:,col].reshape(test_len,1))\n",
        "  ## Predict\n",
        "  pred_val = None \n",
        "  for xw,yt in zip(w_zeros, testing):\n",
        "    xy=xw*yt\n",
        "    if pred_val is None:\n",
        "      y1=xy\n",
        "    else:\n",
        "      y1= y1 + xy\n",
        "    pred_val =y1 \n",
        "  #add prediction result into list\n",
        "  predictions = []\n",
        "  for val in pred_val:\n",
        "      if(val > 1):\n",
        "          predictions.append(1)\n",
        "      else:\n",
        "          predictions.append(-1)\n",
        "  evaluate(y_test,predictions)     \n",
        "\n"
      ],
      "execution_count": 0,
      "outputs": []
    },
    {
      "cell_type": "markdown",
      "metadata": {
        "id": "l4Xtc8pIgl9l",
        "colab_type": "text"
      },
      "source": [
        "##All Features SVM"
      ]
    },
    {
      "cell_type": "markdown",
      "metadata": {
        "id": "llrn7fZXZMSO",
        "colab_type": "text"
      },
      "source": [
        "###SVM  with alpha= 0.002 and epoch =500"
      ]
    },
    {
      "cell_type": "code",
      "metadata": {
        "id": "EaghSZwx3BwZ",
        "colab_type": "code",
        "outputId": "c42b5d01-0a2b-4ed0-8db0-e4e4653e6322",
        "colab": {
          "base_uri": "https://localhost:8080/",
          "height": 278
        }
      },
      "source": [
        "alpa=0.002\n",
        "epoc=500\n",
        "svm_f( x_train, x_test, y_train, y_test, train_len,test_len,alpa,epoc)"
      ],
      "execution_count": 0,
      "outputs": [
        {
          "output_type": "stream",
          "text": [
            "Accuracy Score\n",
            "0.5737704918032787\n",
            "Confusion Matrix\n",
            "[[26  0]\n",
            " [26  9]]\n",
            "Classification report\n",
            "              precision    recall  f1-score   support\n",
            "\n",
            "          -1       0.50      1.00      0.67        26\n",
            "           1       1.00      0.26      0.41        35\n",
            "\n",
            "    accuracy                           0.57        61\n",
            "   macro avg       0.75      0.63      0.54        61\n",
            "weighted avg       0.79      0.57      0.52        61\n",
            "\n"
          ],
          "name": "stdout"
        }
      ]
    },
    {
      "cell_type": "markdown",
      "metadata": {
        "colab_type": "text",
        "id": "5jSwp3jdAVD2"
      },
      "source": [
        "###SVM  with alpha= 0.001 and epoch =1000"
      ]
    },
    {
      "cell_type": "code",
      "metadata": {
        "id": "CvUB-LFxAYzI",
        "colab_type": "code",
        "outputId": "ff372bed-551e-4ae2-8d3f-f91686a4bd5e",
        "colab": {
          "base_uri": "https://localhost:8080/",
          "height": 278
        }
      },
      "source": [
        "alpa=0.001\n",
        "epoc=1000\n",
        "svm_f( x_train, x_test, y_train, y_test, train_len,test_len,alpa,epoc)"
      ],
      "execution_count": 0,
      "outputs": [
        {
          "output_type": "stream",
          "text": [
            "Accuracy Score\n",
            "0.6065573770491803\n",
            "Confusion Matrix\n",
            "[[26  0]\n",
            " [24 11]]\n",
            "Classification report\n",
            "              precision    recall  f1-score   support\n",
            "\n",
            "          -1       0.52      1.00      0.68        26\n",
            "           1       1.00      0.31      0.48        35\n",
            "\n",
            "    accuracy                           0.61        61\n",
            "   macro avg       0.76      0.66      0.58        61\n",
            "weighted avg       0.80      0.61      0.57        61\n",
            "\n"
          ],
          "name": "stdout"
        }
      ]
    },
    {
      "cell_type": "markdown",
      "metadata": {
        "colab_type": "text",
        "id": "uI1q_MyXAw19"
      },
      "source": [
        "###SVM  with alpha= 0.0005 and epoch =2000"
      ]
    },
    {
      "cell_type": "code",
      "metadata": {
        "id": "LGL9hXZOA7FF",
        "colab_type": "code",
        "outputId": "342239c7-15bb-44fd-8bcf-2abfa3811091",
        "colab": {
          "base_uri": "https://localhost:8080/",
          "height": 278
        }
      },
      "source": [
        "alpa=0.0005\n",
        "epoc=2000\n",
        "svm_f( x_train, x_test, y_train, y_test, train_len,test_len,alpa,epoc)"
      ],
      "execution_count": 0,
      "outputs": [
        {
          "output_type": "stream",
          "text": [
            "Accuracy Score\n",
            "0.6229508196721312\n",
            "Confusion Matrix\n",
            "[[26  0]\n",
            " [23 12]]\n",
            "Classification report\n",
            "              precision    recall  f1-score   support\n",
            "\n",
            "          -1       0.53      1.00      0.69        26\n",
            "           1       1.00      0.34      0.51        35\n",
            "\n",
            "    accuracy                           0.62        61\n",
            "   macro avg       0.77      0.67      0.60        61\n",
            "weighted avg       0.80      0.62      0.59        61\n",
            "\n"
          ],
          "name": "stdout"
        }
      ]
    },
    {
      "cell_type": "markdown",
      "metadata": {
        "colab_type": "text",
        "id": "mqrQ9t6pRa1g"
      },
      "source": [
        "###SVM  with alpha= 0.0002 and epoch =5000"
      ]
    },
    {
      "cell_type": "code",
      "metadata": {
        "colab_type": "code",
        "id": "G7EszwOoRa1w",
        "outputId": "148cdb75-22a3-4dcb-a966-f4228baf9d1d",
        "colab": {
          "base_uri": "https://localhost:8080/",
          "height": 278
        }
      },
      "source": [
        "alpa=0.0002\n",
        "epoc=5000\n",
        "svm_f( x_train, x_test, y_train, y_test, train_len,test_len,alpa,epoc)"
      ],
      "execution_count": 0,
      "outputs": [
        {
          "output_type": "stream",
          "text": [
            "Accuracy Score\n",
            "0.6557377049180327\n",
            "Confusion Matrix\n",
            "[[26  0]\n",
            " [21 14]]\n",
            "Classification report\n",
            "              precision    recall  f1-score   support\n",
            "\n",
            "          -1       0.55      1.00      0.71        26\n",
            "           1       1.00      0.40      0.57        35\n",
            "\n",
            "    accuracy                           0.66        61\n",
            "   macro avg       0.78      0.70      0.64        61\n",
            "weighted avg       0.81      0.66      0.63        61\n",
            "\n"
          ],
          "name": "stdout"
        }
      ]
    },
    {
      "cell_type": "markdown",
      "metadata": {
        "colab_type": "text",
        "id": "Ev0xau8hRcic"
      },
      "source": [
        "###SVM  with alpha= 0.0001 and epoch =10000"
      ]
    },
    {
      "cell_type": "code",
      "metadata": {
        "colab_type": "code",
        "id": "tgRrhHDVRcip",
        "outputId": "a403856e-f738-43dd-9fff-e1f8cf625336",
        "colab": {
          "base_uri": "https://localhost:8080/",
          "height": 278
        }
      },
      "source": [
        "alpa=0.0001\n",
        "epoc=10000\n",
        "svm_f( x_train, x_test, y_train, y_test, train_len,test_len,alpa,epoc)"
      ],
      "execution_count": 0,
      "outputs": [
        {
          "output_type": "stream",
          "text": [
            "Accuracy Score\n",
            "0.7540983606557377\n",
            "Confusion Matrix\n",
            "[[24  2]\n",
            " [13 22]]\n",
            "Classification report\n",
            "              precision    recall  f1-score   support\n",
            "\n",
            "          -1       0.65      0.92      0.76        26\n",
            "           1       0.92      0.63      0.75        35\n",
            "\n",
            "    accuracy                           0.75        61\n",
            "   macro avg       0.78      0.78      0.75        61\n",
            "weighted avg       0.80      0.75      0.75        61\n",
            "\n"
          ],
          "name": "stdout"
        }
      ]
    },
    {
      "cell_type": "markdown",
      "metadata": {
        "id": "EF6KtmW224GW",
        "colab_type": "text"
      },
      "source": [
        "###Result if Using Scikit SVM Library"
      ]
    },
    {
      "cell_type": "code",
      "metadata": {
        "id": "SLETPO812xOF",
        "colab_type": "code",
        "outputId": "e180ac14-ac15-4519-824f-50ca00f9cdfc",
        "colab": {
          "base_uri": "https://localhost:8080/",
          "height": 332
        }
      },
      "source": [
        "from sklearn import svm\n",
        "sv_f = svm.SVC(kernel='linear') # Linear Kernel\n",
        "sv_f.fit(x_train, y_train)\n",
        "y_pred = sv_f.predict(x_test)\n",
        "evaluate(y_test, y_pred)\n"
      ],
      "execution_count": 0,
      "outputs": [
        {
          "output_type": "stream",
          "text": [
            "Accuracy Score\n",
            "0.7704918032786885\n",
            "Confusion Matrix\n",
            "[[21  5]\n",
            " [ 9 26]]\n",
            "Classification report\n",
            "              precision    recall  f1-score   support\n",
            "\n",
            "          -1       0.70      0.81      0.75        26\n",
            "           1       0.84      0.74      0.79        35\n",
            "\n",
            "    accuracy                           0.77        61\n",
            "   macro avg       0.77      0.78      0.77        61\n",
            "weighted avg       0.78      0.77      0.77        61\n",
            "\n"
          ],
          "name": "stdout"
        },
        {
          "output_type": "stream",
          "text": [
            "/usr/local/lib/python3.6/dist-packages/sklearn/utils/validation.py:760: DataConversionWarning: A column-vector y was passed when a 1d array was expected. Please change the shape of y to (n_samples, ), for example using ravel().\n",
            "  y = column_or_1d(y, warn=True)\n"
          ],
          "name": "stderr"
        }
      ]
    },
    {
      "cell_type": "markdown",
      "metadata": {
        "id": "osJL5isPHHPC",
        "colab_type": "text"
      },
      "source": [
        "##Removing Random Features ( 50% of Total Features)"
      ]
    },
    {
      "cell_type": "code",
      "metadata": {
        "id": "BD6yFNvCHScn",
        "colab_type": "code",
        "outputId": "20e16585-bde8-487e-bb5a-7a2c69e2dcc4",
        "colab": {
          "base_uri": "https://localhost:8080/",
          "height": 52
        }
      },
      "source": [
        "from random import seed\n",
        "from random import randint\n",
        "\n",
        "seed(1)\n",
        "cols = []\n",
        "col_tot= len(df_heart.columns)-1\n",
        "half=int(col_tot*0.5)\n",
        "for _ in range(half):\n",
        "\tvalue = randint(0, col_tot)\n",
        "\tcols.append(value)\n",
        "print (cols)\n",
        "\n",
        "df_heart.drop(df_heart.columns[cols],axis=1,inplace=True)\n",
        "df_heart.shape"
      ],
      "execution_count": 0,
      "outputs": [
        {
          "output_type": "stream",
          "text": [
            "[2, 9, 12, 12, 1, 4]\n"
          ],
          "name": "stdout"
        },
        {
          "output_type": "execute_result",
          "data": {
            "text/plain": [
              "(303, 8)"
            ]
          },
          "metadata": {
            "tags": []
          },
          "execution_count": 13
        }
      ]
    },
    {
      "cell_type": "markdown",
      "metadata": {
        "id": "qWX59WV3Unxu",
        "colab_type": "text"
      },
      "source": [
        "### Data preaparation for half features data\n",
        "\n",
        "\n"
      ]
    },
    {
      "cell_type": "code",
      "metadata": {
        "id": "UspIcS02TOYm",
        "colab_type": "code",
        "outputId": "f154252b-14f8-416e-b0ca-738e01e8827d",
        "colab": {
          "base_uri": "https://localhost:8080/",
          "height": 34
        }
      },
      "source": [
        "\n",
        "##put data to X\n",
        "X = df_heart.values.tolist()\n",
        "\n",
        "## prepare variable\n",
        "x_train = []\n",
        "y_train = []\n",
        "x_test = []\n",
        "y_test = []\n",
        "\n",
        "##split data\n",
        "x_train, x_test, y_train, y_test = train_test_split(X, Y, train_size=0.8, random_state=10)\n",
        "\n",
        "##data leng for  data training and testing using from the first dat apreparation\n",
        "\n",
        "\n",
        "x_train = np.array(x_train)\n",
        "y_train = np.array(y_train)\n",
        "x_test = np.array(x_test)\n",
        "y_test = np.array(y_test)\n",
        "\n",
        "y_train = y_train.reshape(train_len,1)\n",
        "y_test = y_test.reshape(test_len,1)\n",
        "\n",
        "x_train.shape\n"
      ],
      "execution_count": 0,
      "outputs": [
        {
          "output_type": "execute_result",
          "data": {
            "text/plain": [
              "(242, 8)"
            ]
          },
          "metadata": {
            "tags": []
          },
          "execution_count": 14
        }
      ]
    },
    {
      "cell_type": "markdown",
      "metadata": {
        "colab_type": "text",
        "id": "wTDGzoRsWoYX"
      },
      "source": [
        "###SVM with alpha= 0.002 and epoch =500"
      ]
    },
    {
      "cell_type": "code",
      "metadata": {
        "id": "dfSQv7jaWrkX",
        "colab_type": "code",
        "outputId": "d48746d9-aab1-45c8-bfa9-9672a1583644",
        "colab": {
          "base_uri": "https://localhost:8080/",
          "height": 278
        }
      },
      "source": [
        "alpa=0.002\n",
        "epoc=500\n",
        "svm_f( x_train, x_test, y_train, y_test, train_len,test_len,alpa,epoc)"
      ],
      "execution_count": 0,
      "outputs": [
        {
          "output_type": "stream",
          "text": [
            "Accuracy Score\n",
            "0.4262295081967213\n",
            "Confusion Matrix\n",
            "[[25  1]\n",
            " [34  1]]\n",
            "Classification report\n",
            "              precision    recall  f1-score   support\n",
            "\n",
            "          -1       0.42      0.96      0.59        26\n",
            "           1       0.50      0.03      0.05        35\n",
            "\n",
            "    accuracy                           0.43        61\n",
            "   macro avg       0.46      0.50      0.32        61\n",
            "weighted avg       0.47      0.43      0.28        61\n",
            "\n"
          ],
          "name": "stdout"
        }
      ]
    },
    {
      "cell_type": "markdown",
      "metadata": {
        "colab_type": "text",
        "id": "hPc7p3jqTOQF"
      },
      "source": [
        "###SVM  with alpha= 0.001 and epoch =1000"
      ]
    },
    {
      "cell_type": "code",
      "metadata": {
        "colab_type": "code",
        "outputId": "22ac1999-0420-4138-db73-b8c371d69be1",
        "id": "cUnfSA7LTOQV",
        "colab": {
          "base_uri": "https://localhost:8080/",
          "height": 278
        }
      },
      "source": [
        "alpa=0.001\n",
        "epoc=1000\n",
        "svm_f( x_train, x_test, y_train, y_test, train_len,test_len,alpa,epoc)"
      ],
      "execution_count": 0,
      "outputs": [
        {
          "output_type": "stream",
          "text": [
            "Accuracy Score\n",
            "0.5081967213114754\n",
            "Confusion Matrix\n",
            "[[25  1]\n",
            " [29  6]]\n",
            "Classification report\n",
            "              precision    recall  f1-score   support\n",
            "\n",
            "          -1       0.46      0.96      0.62        26\n",
            "           1       0.86      0.17      0.29        35\n",
            "\n",
            "    accuracy                           0.51        61\n",
            "   macro avg       0.66      0.57      0.46        61\n",
            "weighted avg       0.69      0.51      0.43        61\n",
            "\n"
          ],
          "name": "stdout"
        }
      ]
    },
    {
      "cell_type": "markdown",
      "metadata": {
        "id": "2RhICIbtVBdZ",
        "colab_type": "text"
      },
      "source": [
        "###SVM with alpha= 0.0005 and epoch =2000"
      ]
    },
    {
      "cell_type": "code",
      "metadata": {
        "id": "szQMUX1gVC6m",
        "colab_type": "code",
        "outputId": "521a29c4-de10-4ae4-b510-89c59fdf3e6b",
        "colab": {
          "base_uri": "https://localhost:8080/",
          "height": 278
        }
      },
      "source": [
        "alpa=0.0005\n",
        "epoc=2000\n",
        "svm_f( x_train, x_test, y_train, y_test, train_len,test_len,alpa,epoc)"
      ],
      "execution_count": 0,
      "outputs": [
        {
          "output_type": "stream",
          "text": [
            "Accuracy Score\n",
            "0.5409836065573771\n",
            "Confusion Matrix\n",
            "[[25  1]\n",
            " [27  8]]\n",
            "Classification report\n",
            "              precision    recall  f1-score   support\n",
            "\n",
            "          -1       0.48      0.96      0.64        26\n",
            "           1       0.89      0.23      0.36        35\n",
            "\n",
            "    accuracy                           0.54        61\n",
            "   macro avg       0.68      0.60      0.50        61\n",
            "weighted avg       0.71      0.54      0.48        61\n",
            "\n"
          ],
          "name": "stdout"
        }
      ]
    },
    {
      "cell_type": "markdown",
      "metadata": {
        "colab_type": "text",
        "id": "4Z5a5v9zTAXp"
      },
      "source": [
        "###SVM  with alpha= 0.0002 and epoch =5000"
      ]
    },
    {
      "cell_type": "code",
      "metadata": {
        "colab_type": "code",
        "id": "5noORgCxTAX0",
        "outputId": "89f8c19f-e8cc-4257-a083-553905f7a08f",
        "colab": {
          "base_uri": "https://localhost:8080/",
          "height": 278
        }
      },
      "source": [
        "alpa=0.0002\n",
        "epoc=5000\n",
        "svm_f( x_train, x_test, y_train, y_test, train_len,test_len,alpa,epoc)"
      ],
      "execution_count": 0,
      "outputs": [
        {
          "output_type": "stream",
          "text": [
            "Accuracy Score\n",
            "0.5245901639344263\n",
            "Confusion Matrix\n",
            "[[25  1]\n",
            " [28  7]]\n",
            "Classification report\n",
            "              precision    recall  f1-score   support\n",
            "\n",
            "          -1       0.47      0.96      0.63        26\n",
            "           1       0.88      0.20      0.33        35\n",
            "\n",
            "    accuracy                           0.52        61\n",
            "   macro avg       0.67      0.58      0.48        61\n",
            "weighted avg       0.70      0.52      0.46        61\n",
            "\n"
          ],
          "name": "stdout"
        }
      ]
    },
    {
      "cell_type": "markdown",
      "metadata": {
        "colab_type": "text",
        "id": "Mcn9TsJpSnL7"
      },
      "source": [
        "###SVM  with alpha= 0.0001 and epoch =10000"
      ]
    },
    {
      "cell_type": "code",
      "metadata": {
        "colab_type": "code",
        "id": "2M-dyytqSnMH",
        "outputId": "1af4e48e-0c56-42b0-cd7f-1e4e3f101098",
        "colab": {
          "base_uri": "https://localhost:8080/",
          "height": 278
        }
      },
      "source": [
        "alpa=0.0001\n",
        "epoc=10000\n",
        "svm_f( x_train, x_test, y_train, y_test, train_len,test_len,alpa,epoc)"
      ],
      "execution_count": 0,
      "outputs": [
        {
          "output_type": "stream",
          "text": [
            "Accuracy Score\n",
            "0.6065573770491803\n",
            "Confusion Matrix\n",
            "[[24  2]\n",
            " [22 13]]\n",
            "Classification report\n",
            "              precision    recall  f1-score   support\n",
            "\n",
            "          -1       0.52      0.92      0.67        26\n",
            "           1       0.87      0.37      0.52        35\n",
            "\n",
            "    accuracy                           0.61        61\n",
            "   macro avg       0.69      0.65      0.59        61\n",
            "weighted avg       0.72      0.61      0.58        61\n",
            "\n"
          ],
          "name": "stdout"
        }
      ]
    },
    {
      "cell_type": "markdown",
      "metadata": {
        "colab_type": "text",
        "id": "MTYD7pU4VTi-"
      },
      "source": [
        "###Result if Using Scikit SVM Library"
      ]
    },
    {
      "cell_type": "code",
      "metadata": {
        "colab_type": "code",
        "outputId": "114c8aac-ce61-49fc-d19f-7dc381127f97",
        "id": "LnQpTFJuVXNQ",
        "colab": {
          "base_uri": "https://localhost:8080/",
          "height": 332
        }
      },
      "source": [
        "sv_f = svm.SVC(kernel='linear') # Linear Kernel\n",
        "sv_f.fit(x_train, y_train)\n",
        "y_pred = sv_f.predict(x_test)\n",
        "evaluate(y_test, y_pred)\n"
      ],
      "execution_count": 0,
      "outputs": [
        {
          "output_type": "stream",
          "text": [
            "Accuracy Score\n",
            "0.7049180327868853\n",
            "Confusion Matrix\n",
            "[[19  7]\n",
            " [11 24]]\n",
            "Classification report\n",
            "              precision    recall  f1-score   support\n",
            "\n",
            "          -1       0.63      0.73      0.68        26\n",
            "           1       0.77      0.69      0.73        35\n",
            "\n",
            "    accuracy                           0.70        61\n",
            "   macro avg       0.70      0.71      0.70        61\n",
            "weighted avg       0.71      0.70      0.71        61\n",
            "\n"
          ],
          "name": "stdout"
        },
        {
          "output_type": "stream",
          "text": [
            "/usr/local/lib/python3.6/dist-packages/sklearn/utils/validation.py:760: DataConversionWarning: A column-vector y was passed when a 1d array was expected. Please change the shape of y to (n_samples, ), for example using ravel().\n",
            "  y = column_or_1d(y, warn=True)\n"
          ],
          "name": "stderr"
        }
      ]
    }
  ]
}