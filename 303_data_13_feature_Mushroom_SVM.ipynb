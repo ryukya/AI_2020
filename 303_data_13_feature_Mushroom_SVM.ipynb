{
  "nbformat": 4,
  "nbformat_minor": 0,
  "metadata": {
    "colab": {
      "name": "303 data 13 feature Mushroom SVM ",
      "provenance": [],
      "toc_visible": true,
      "authorship_tag": "ABX9TyOykPajBpgucqPx/jC2tUCX",
      "include_colab_link": true
    },
    "kernelspec": {
      "name": "python3",
      "display_name": "Python 3"
    }
  },
  "cells": [
    {
      "cell_type": "markdown",
      "metadata": {
        "id": "view-in-github",
        "colab_type": "text"
      },
      "source": [
        "<a href=\"https://colab.research.google.com/github/ryukya/AI_2020/blob/SVM/303_data_13_feature_Mushroom_SVM.ipynb\" target=\"_parent\"><img src=\"https://colab.research.google.com/assets/colab-badge.svg\" alt=\"Open In Colab\"/></a>"
      ]
    },
    {
      "cell_type": "markdown",
      "metadata": {
        "id": "Zy0pNz_UM-9u",
        "colab_type": "text"
      },
      "source": [
        "##Data preparation and resampling"
      ]
    },
    {
      "cell_type": "code",
      "metadata": {
        "id": "WSq9t3igwjHx",
        "colab_type": "code",
        "outputId": "ebbbdbd7-4073-43ac-91e0-d5c12ccc044a",
        "colab": {
          "base_uri": "https://localhost:8080/",
          "height": 278
        }
      },
      "source": [
        "import pandas as pd\n",
        "from sklearn.preprocessing import LabelEncoder\n",
        "from sklearn.utils import shuffle\n",
        "from sklearn.model_selection import train_test_split\n",
        "import numpy as np\n",
        "\n",
        "##load data\n",
        "df_mushroom = pd.read_csv('mushrooms.csv')\n",
        "df_mushroom=df_mushroom.sample(n=303, random_state=10)\n",
        "\n",
        "\n",
        "\n",
        "##transform value\n",
        "lb=LabelEncoder()\n",
        "df_mushroom=df_mushroom.apply(lb.fit_transform)\n",
        "datas=df_mushroom.rename(columns={ \"class\": \"lab\"}, errors=\"raise\")\n",
        "\n",
        "datas.head()\n"
      ],
      "execution_count": 1,
      "outputs": [
        {
          "output_type": "execute_result",
          "data": {
            "text/html": [
              "<div>\n",
              "<style scoped>\n",
              "    .dataframe tbody tr th:only-of-type {\n",
              "        vertical-align: middle;\n",
              "    }\n",
              "\n",
              "    .dataframe tbody tr th {\n",
              "        vertical-align: top;\n",
              "    }\n",
              "\n",
              "    .dataframe thead th {\n",
              "        text-align: right;\n",
              "    }\n",
              "</style>\n",
              "<table border=\"1\" class=\"dataframe\">\n",
              "  <thead>\n",
              "    <tr style=\"text-align: right;\">\n",
              "      <th></th>\n",
              "      <th>lab</th>\n",
              "      <th>cap-shape</th>\n",
              "      <th>cap-surface</th>\n",
              "      <th>cap-color</th>\n",
              "      <th>bruises</th>\n",
              "      <th>odor</th>\n",
              "      <th>gill-attachment</th>\n",
              "      <th>gill-spacing</th>\n",
              "      <th>gill-size</th>\n",
              "      <th>gill-color</th>\n",
              "      <th>stalk-shape</th>\n",
              "      <th>stalk-root</th>\n",
              "      <th>stalk-surface-above-ring</th>\n",
              "      <th>stalk-surface-below-ring</th>\n",
              "      <th>stalk-color-above-ring</th>\n",
              "      <th>stalk-color-below-ring</th>\n",
              "      <th>veil-type</th>\n",
              "      <th>veil-color</th>\n",
              "      <th>ring-number</th>\n",
              "      <th>ring-type</th>\n",
              "      <th>spore-print-color</th>\n",
              "      <th>population</th>\n",
              "      <th>habitat</th>\n",
              "    </tr>\n",
              "  </thead>\n",
              "  <tbody>\n",
              "    <tr>\n",
              "      <th>582</th>\n",
              "      <td>0</td>\n",
              "      <td>4</td>\n",
              "      <td>2</td>\n",
              "      <td>7</td>\n",
              "      <td>1</td>\n",
              "      <td>3</td>\n",
              "      <td>1</td>\n",
              "      <td>0</td>\n",
              "      <td>0</td>\n",
              "      <td>4</td>\n",
              "      <td>0</td>\n",
              "      <td>2</td>\n",
              "      <td>2</td>\n",
              "      <td>2</td>\n",
              "      <td>7</td>\n",
              "      <td>7</td>\n",
              "      <td>0</td>\n",
              "      <td>2</td>\n",
              "      <td>1</td>\n",
              "      <td>4</td>\n",
              "      <td>2</td>\n",
              "      <td>2</td>\n",
              "      <td>1</td>\n",
              "    </tr>\n",
              "    <tr>\n",
              "      <th>2288</th>\n",
              "      <td>1</td>\n",
              "      <td>1</td>\n",
              "      <td>1</td>\n",
              "      <td>4</td>\n",
              "      <td>1</td>\n",
              "      <td>6</td>\n",
              "      <td>1</td>\n",
              "      <td>0</td>\n",
              "      <td>1</td>\n",
              "      <td>7</td>\n",
              "      <td>0</td>\n",
              "      <td>3</td>\n",
              "      <td>2</td>\n",
              "      <td>2</td>\n",
              "      <td>7</td>\n",
              "      <td>7</td>\n",
              "      <td>0</td>\n",
              "      <td>2</td>\n",
              "      <td>1</td>\n",
              "      <td>4</td>\n",
              "      <td>2</td>\n",
              "      <td>3</td>\n",
              "      <td>5</td>\n",
              "    </tr>\n",
              "    <tr>\n",
              "      <th>1789</th>\n",
              "      <td>0</td>\n",
              "      <td>4</td>\n",
              "      <td>1</td>\n",
              "      <td>7</td>\n",
              "      <td>0</td>\n",
              "      <td>5</td>\n",
              "      <td>1</td>\n",
              "      <td>1</td>\n",
              "      <td>0</td>\n",
              "      <td>5</td>\n",
              "      <td>1</td>\n",
              "      <td>3</td>\n",
              "      <td>0</td>\n",
              "      <td>2</td>\n",
              "      <td>7</td>\n",
              "      <td>7</td>\n",
              "      <td>0</td>\n",
              "      <td>2</td>\n",
              "      <td>1</td>\n",
              "      <td>0</td>\n",
              "      <td>2</td>\n",
              "      <td>3</td>\n",
              "      <td>1</td>\n",
              "    </tr>\n",
              "    <tr>\n",
              "      <th>3374</th>\n",
              "      <td>0</td>\n",
              "      <td>1</td>\n",
              "      <td>2</td>\n",
              "      <td>2</td>\n",
              "      <td>1</td>\n",
              "      <td>5</td>\n",
              "      <td>1</td>\n",
              "      <td>0</td>\n",
              "      <td>0</td>\n",
              "      <td>9</td>\n",
              "      <td>1</td>\n",
              "      <td>1</td>\n",
              "      <td>2</td>\n",
              "      <td>2</td>\n",
              "      <td>7</td>\n",
              "      <td>6</td>\n",
              "      <td>0</td>\n",
              "      <td>2</td>\n",
              "      <td>1</td>\n",
              "      <td>4</td>\n",
              "      <td>3</td>\n",
              "      <td>4</td>\n",
              "      <td>0</td>\n",
              "    </tr>\n",
              "    <tr>\n",
              "      <th>814</th>\n",
              "      <td>1</td>\n",
              "      <td>4</td>\n",
              "      <td>1</td>\n",
              "      <td>4</td>\n",
              "      <td>1</td>\n",
              "      <td>6</td>\n",
              "      <td>1</td>\n",
              "      <td>0</td>\n",
              "      <td>1</td>\n",
              "      <td>4</td>\n",
              "      <td>0</td>\n",
              "      <td>3</td>\n",
              "      <td>2</td>\n",
              "      <td>2</td>\n",
              "      <td>7</td>\n",
              "      <td>7</td>\n",
              "      <td>0</td>\n",
              "      <td>2</td>\n",
              "      <td>1</td>\n",
              "      <td>4</td>\n",
              "      <td>2</td>\n",
              "      <td>4</td>\n",
              "      <td>5</td>\n",
              "    </tr>\n",
              "  </tbody>\n",
              "</table>\n",
              "</div>"
            ],
            "text/plain": [
              "      lab  cap-shape  cap-surface  ...  spore-print-color  population  habitat\n",
              "582     0          4            2  ...                  2           2        1\n",
              "2288    1          1            1  ...                  2           3        5\n",
              "1789    0          4            1  ...                  2           3        1\n",
              "3374    0          1            2  ...                  3           4        0\n",
              "814     1          4            1  ...                  2           4        5\n",
              "\n",
              "[5 rows x 23 columns]"
            ]
          },
          "metadata": {
            "tags": []
          },
          "execution_count": 1
        }
      ]
    },
    {
      "cell_type": "code",
      "metadata": {
        "id": "1c9gZ-cROlHc",
        "colab_type": "code",
        "outputId": "5b68fe1f-db9e-4b57-e2f6-27fb803f0e27",
        "colab": {
          "base_uri": "https://localhost:8080/",
          "height": 312
        }
      },
      "source": [
        "##separate label and features data\n",
        "dt_label = datas['lab']\n",
        "df_mushroom = datas.drop(['lab'],axis=1)\n",
        "##put data to Y \n",
        "Y = []\n",
        "for val in dt_label:\n",
        "    if(val == 1): ## val=1 poisonus\n",
        "        Y.append(-1)\n",
        "    else:\n",
        "        Y.append(1)\n",
        "print(df_mushroom.head())\n",
        "\n",
        "## reduce features to 13 \n",
        "from random import seed\n",
        "from random import randint\n",
        "seed(1)\n",
        "cols = []\n",
        "col_tot= len(df_mushroom.columns)\n",
        "\n",
        "col_del=col_tot-12\n",
        "\n",
        "for _ in range(col_del):\n",
        "\tvalue = randint(0, col_tot)\n",
        "\tcols.append(value)\n",
        "print (cols)\n",
        "df_mushroom.drop(df_mushroom.columns[cols],axis=1,inplace=True)\n",
        "print(df_mushroom.head())\n",
        "\n"
      ],
      "execution_count": 2,
      "outputs": [
        {
          "output_type": "stream",
          "text": [
            "      cap-shape  cap-surface  cap-color  ...  spore-print-color  population  habitat\n",
            "582           4            2          7  ...                  2           2        1\n",
            "2288          1            1          4  ...                  2           3        5\n",
            "1789          4            1          7  ...                  2           3        1\n",
            "3374          1            2          2  ...                  3           4        0\n",
            "814           4            1          4  ...                  2           4        5\n",
            "\n",
            "[5 rows x 22 columns]\n",
            "[4, 18, 2, 8, 3, 15, 14, 15, 20, 12]\n",
            "      cap-shape  cap-surface  ...  spore-print-color  habitat\n",
            "582           4            2  ...                  2        1\n",
            "2288          1            1  ...                  2        5\n",
            "1789          4            1  ...                  2        1\n",
            "3374          1            2  ...                  3        0\n",
            "814           4            1  ...                  2        5\n",
            "\n",
            "[5 rows x 13 columns]\n"
          ],
          "name": "stdout"
        }
      ]
    },
    {
      "cell_type": "code",
      "metadata": {
        "id": "FCsxCcrDxn2y",
        "colab_type": "code",
        "outputId": "92a1112d-f708-49e9-e3b1-7f23b352ce9b",
        "colab": {
          "base_uri": "https://localhost:8080/",
          "height": 34
        }
      },
      "source": [
        "##put data to X\n",
        "X = df_mushroom.values.tolist()\n",
        "\n",
        "## prepare variable\n",
        "x_train = []\n",
        "y_train = []\n",
        "x_test = []\n",
        "y_test = []\n",
        "\n",
        "##split data\n",
        "x_train, x_test, y_train, y_test = train_test_split(X, Y, train_size=0.8, random_state=10)\n",
        "\n",
        "##data leng for  data training and testing\n",
        "lengt=len(df_mushroom)\n",
        "train_len= int(0.8*lengt)\n",
        "test_len=int( 0.2*lengt)+1\n",
        "\n",
        "x_train = np.array(x_train)\n",
        "y_train = np.array(y_train)\n",
        "x_test = np.array(x_test)\n",
        "y_test = np.array(y_test)\n",
        "\n",
        "y_train = y_train.reshape(train_len,1)\n",
        "y_test = y_test.reshape(test_len,1)\n",
        "\n",
        "print(\"length: \",lengt,\"---- training:\",train_len,\"----test:\",test_len)\n",
        "\n"
      ],
      "execution_count": 3,
      "outputs": [
        {
          "output_type": "stream",
          "text": [
            "length:  303 ---- training: 242 ----test: 61\n"
          ],
          "name": "stdout"
        }
      ]
    },
    {
      "cell_type": "markdown",
      "metadata": {
        "id": "S2ErDgYhNKcw",
        "colab_type": "text"
      },
      "source": [
        "\n",
        "\n",
        "##Evaluation Function"
      ]
    },
    {
      "cell_type": "code",
      "metadata": {
        "id": "QefVuj5sNLSO",
        "colab_type": "code",
        "colab": {}
      },
      "source": [
        "from sklearn.metrics import classification_report, confusion_matrix\n",
        "from sklearn.metrics import accuracy_score\n",
        "def evaluate (y_test,predictions):\n",
        "  print (\"Accuracy Score\")\n",
        "  print(accuracy_score(y_test,predictions))\n",
        "  print (\"Confusion Matrix\")\n",
        "  print(confusion_matrix(y_test, predictions))\n",
        "  print (\"Classification report\")\n",
        "  print(classification_report(y_test, predictions))"
      ],
      "execution_count": 0,
      "outputs": []
    },
    {
      "cell_type": "markdown",
      "metadata": {
        "id": "Rp_zeXggNN0q",
        "colab_type": "text"
      },
      "source": [
        "##SVM Function"
      ]
    },
    {
      "cell_type": "code",
      "metadata": {
        "id": "VbqD-TZiNPut",
        "colab_type": "code",
        "colab": {}
      },
      "source": [
        "def svm_f( x_train, x_test, y_train, y_test, train_len,test_len,alpa,epoc):\n",
        "  training=[]\n",
        "  ##train_fx & training reshape \n",
        "  for col in range(x_train.shape[1]):\n",
        "    training.append(x_train[:,col].reshape(train_len,1))\n",
        "  ##make w array (zeros) \n",
        "  w_zeros=[]\n",
        "  for x in training:\n",
        "    w_zeros.append(np.zeros((train_len,1)))\n",
        "  epochs = 1\n",
        "  alpha = alpa\n",
        "  while(epochs < epoc):\n",
        "    ##sum of array in w_zeros*array in training\n",
        "    sumval = None \n",
        "    for xw,yt in zip(w_zeros, training):\n",
        "      xy=xw*yt\n",
        "      if sumval is None:\n",
        "       y1=xy\n",
        "      else:\n",
        "        y1= y1 + xy\n",
        "      sumval =y1 \n",
        "    prod = sumval * y_train\n",
        "    count = 0\n",
        "    for val in prod:\n",
        "      if(val >= 1):\n",
        "        cost = 0\n",
        "        for i in range(len(w_zeros)):\n",
        "         w_zeros[i]= w_zeros[i] - alpha * (2 * 1/epochs * w_zeros[i])\n",
        "      else:\n",
        "        cost = 1 - val\n",
        "        for i in range(len(w_zeros)):\n",
        "         w_zeros[i]= w_zeros[i] + alpha * (training[i][count] * y_train[count] - 2 * 1/epochs * w_zeros[i])\n",
        "      count += 1\n",
        "    epochs += 1\n",
        "  ## Clipping weights  and reshape array\n",
        "  index = list(range(test_len,train_len))\n",
        "  for i in range(len(w_zeros)):\n",
        "    w_zeros[i]=np.delete(w_zeros[i],index)\n",
        "    w_zeros[i] = w_zeros[i].reshape(test_len,1)\n",
        "  ## Extract the test data features \n",
        "  testing=[]\n",
        "  for col in range(x_test.shape[1]):\n",
        "    testing.append(x_test[:,col].reshape(test_len,1))\n",
        "  ## Predict\n",
        "  pred_val = None \n",
        "  for xw,yt in zip(w_zeros, testing):\n",
        "    xy=xw*yt\n",
        "    if pred_val is None:\n",
        "      y1=xy\n",
        "    else:\n",
        "      y1= y1 + xy\n",
        "    pred_val =y1 \n",
        "  #add prediction result into list\n",
        "  predictions = []\n",
        "  for val in pred_val:\n",
        "      if(val > 1):\n",
        "          predictions.append(1)\n",
        "      else:\n",
        "          predictions.append(-1)\n",
        "  evaluate(y_test,predictions)     \n",
        "\n"
      ],
      "execution_count": 0,
      "outputs": []
    },
    {
      "cell_type": "markdown",
      "metadata": {
        "colab_type": "text",
        "id": "lyHX28DhWx5H"
      },
      "source": [
        "##SVM with alpha= 0.002 and epoch =500"
      ]
    },
    {
      "cell_type": "code",
      "metadata": {
        "id": "iDtvDUngEA1L",
        "colab_type": "code",
        "outputId": "221980f7-39ce-44e4-e5e1-2402c7fc445e",
        "colab": {
          "base_uri": "https://localhost:8080/",
          "height": 278
        }
      },
      "source": [
        "alpa=0.002\n",
        "epoc=500\n",
        "svm_f( x_train, x_test, y_train, y_test, train_len,test_len,alpa,epoc)"
      ],
      "execution_count": 6,
      "outputs": [
        {
          "output_type": "stream",
          "text": [
            "Accuracy Score\n",
            "0.45901639344262296\n",
            "Confusion Matrix\n",
            "[[25  0]\n",
            " [33  3]]\n",
            "Classification report\n",
            "              precision    recall  f1-score   support\n",
            "\n",
            "          -1       0.43      1.00      0.60        25\n",
            "           1       1.00      0.08      0.15        36\n",
            "\n",
            "    accuracy                           0.46        61\n",
            "   macro avg       0.72      0.54      0.38        61\n",
            "weighted avg       0.77      0.46      0.34        61\n",
            "\n"
          ],
          "name": "stdout"
        }
      ]
    },
    {
      "cell_type": "markdown",
      "metadata": {
        "id": "OFx8Ll3fNSYH",
        "colab_type": "text"
      },
      "source": [
        "##SVM with alpha= 0.001 and epoch =1000"
      ]
    },
    {
      "cell_type": "code",
      "metadata": {
        "id": "gtcZvQ08Nbjh",
        "colab_type": "code",
        "outputId": "f62c1638-eb31-48e4-9008-463fa8ea1d78",
        "colab": {
          "base_uri": "https://localhost:8080/",
          "height": 278
        }
      },
      "source": [
        "alpa=0.001\n",
        "epoc=1000\n",
        "svm_f( x_train, x_test, y_train, y_test, train_len,test_len,alpa,epoc)"
      ],
      "execution_count": 7,
      "outputs": [
        {
          "output_type": "stream",
          "text": [
            "Accuracy Score\n",
            "0.9016393442622951\n",
            "Confusion Matrix\n",
            "[[20  5]\n",
            " [ 1 35]]\n",
            "Classification report\n",
            "              precision    recall  f1-score   support\n",
            "\n",
            "          -1       0.95      0.80      0.87        25\n",
            "           1       0.88      0.97      0.92        36\n",
            "\n",
            "    accuracy                           0.90        61\n",
            "   macro avg       0.91      0.89      0.90        61\n",
            "weighted avg       0.91      0.90      0.90        61\n",
            "\n"
          ],
          "name": "stdout"
        }
      ]
    },
    {
      "cell_type": "markdown",
      "metadata": {
        "id": "6uQXkGt8cIfy",
        "colab_type": "text"
      },
      "source": [
        "##SVM with alpha= 0.0005 and epoch =2000"
      ]
    },
    {
      "cell_type": "code",
      "metadata": {
        "colab_type": "code",
        "outputId": "8a18ec9e-8734-45da-f127-637e794e5bfe",
        "id": "cJfXsHofb2cs",
        "colab": {
          "base_uri": "https://localhost:8080/",
          "height": 278
        }
      },
      "source": [
        "alpa=0.0005\n",
        "epoc=2000\n",
        "svm_f( x_train, x_test, y_train, y_test, train_len,test_len,alpa,epoc)"
      ],
      "execution_count": 8,
      "outputs": [
        {
          "output_type": "stream",
          "text": [
            "Accuracy Score\n",
            "0.9016393442622951\n",
            "Confusion Matrix\n",
            "[[24  1]\n",
            " [ 5 31]]\n",
            "Classification report\n",
            "              precision    recall  f1-score   support\n",
            "\n",
            "          -1       0.83      0.96      0.89        25\n",
            "           1       0.97      0.86      0.91        36\n",
            "\n",
            "    accuracy                           0.90        61\n",
            "   macro avg       0.90      0.91      0.90        61\n",
            "weighted avg       0.91      0.90      0.90        61\n",
            "\n"
          ],
          "name": "stdout"
        }
      ]
    },
    {
      "cell_type": "markdown",
      "metadata": {
        "id": "EF6KtmW224GW",
        "colab_type": "text"
      },
      "source": [
        "##Result if Using Scikit SVM Library"
      ]
    },
    {
      "cell_type": "code",
      "metadata": {
        "id": "z8JTC6Nyqeha",
        "colab_type": "code",
        "outputId": "57ce1f4b-c0ae-4179-e50e-a1fde797c8d3",
        "colab": {
          "base_uri": "https://localhost:8080/",
          "height": 332
        }
      },
      "source": [
        "from sklearn import svm\n",
        "sv_f = svm.SVC(kernel='linear') # Linear Kernel\n",
        "sv_f.fit(x_train, y_train)\n",
        "y_pred = sv_f.predict(x_test)\n",
        "evaluate(y_test, y_pred)\n"
      ],
      "execution_count": 9,
      "outputs": [
        {
          "output_type": "stream",
          "text": [
            "Accuracy Score\n",
            "0.9344262295081968\n",
            "Confusion Matrix\n",
            "[[22  3]\n",
            " [ 1 35]]\n",
            "Classification report\n",
            "              precision    recall  f1-score   support\n",
            "\n",
            "          -1       0.96      0.88      0.92        25\n",
            "           1       0.92      0.97      0.95        36\n",
            "\n",
            "    accuracy                           0.93        61\n",
            "   macro avg       0.94      0.93      0.93        61\n",
            "weighted avg       0.94      0.93      0.93        61\n",
            "\n"
          ],
          "name": "stdout"
        },
        {
          "output_type": "stream",
          "text": [
            "/usr/local/lib/python3.6/dist-packages/sklearn/utils/validation.py:760: DataConversionWarning: A column-vector y was passed when a 1d array was expected. Please change the shape of y to (n_samples, ), for example using ravel().\n",
            "  y = column_or_1d(y, warn=True)\n"
          ],
          "name": "stderr"
        }
      ]
    }
  ]
}