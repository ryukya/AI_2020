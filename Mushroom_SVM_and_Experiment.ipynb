{
  "nbformat": 4,
  "nbformat_minor": 0,
  "metadata": {
    "colab": {
      "name": "Mushroom SVM and Experiment.ipynb",
      "provenance": [],
      "toc_visible": true,
      "include_colab_link": true
    },
    "kernelspec": {
      "name": "python3",
      "display_name": "Python 3"
    }
  },
  "cells": [
    {
      "cell_type": "markdown",
      "metadata": {
        "id": "view-in-github",
        "colab_type": "text"
      },
      "source": [
        "<a href=\"https://colab.research.google.com/github/ryukya/AI_2020/blob/SVM/Mushroom_SVM_and_Experiment.ipynb\" target=\"_parent\"><img src=\"https://colab.research.google.com/assets/colab-badge.svg\" alt=\"Open In Colab\"/></a>"
      ]
    },
    {
      "cell_type": "markdown",
      "metadata": {
        "id": "dmeRjYzgkmba",
        "colab_type": "text"
      },
      "source": [
        "##Data preparation"
      ]
    },
    {
      "cell_type": "code",
      "metadata": {
        "id": "4nQ0oC0fhN-Z",
        "colab_type": "code",
        "outputId": "6ba88f5c-7a4a-47ed-a6bc-d0ea56933c99",
        "colab": {
          "base_uri": "https://localhost:8080/",
          "height": 278
        }
      },
      "source": [
        "import pandas as pd\n",
        "from sklearn.preprocessing import LabelEncoder\n",
        "from sklearn.utils import shuffle\n",
        "from sklearn.model_selection import train_test_split\n",
        "import numpy as np\n",
        "\n",
        "##load data\n",
        "df_mushroom = pd.read_csv('mushrooms.csv')\n",
        "\n",
        "##transform value\n",
        "lb=LabelEncoder()\n",
        "df_mushroom=df_mushroom.apply(lb.fit_transform)\n",
        "datas=df_mushroom.rename(columns={ \"class\": \"lab\"}, errors=\"raise\")\n",
        "\n",
        "datas.head()\n"
      ],
      "execution_count": 12,
      "outputs": [
        {
          "output_type": "execute_result",
          "data": {
            "text/html": [
              "<div>\n",
              "<style scoped>\n",
              "    .dataframe tbody tr th:only-of-type {\n",
              "        vertical-align: middle;\n",
              "    }\n",
              "\n",
              "    .dataframe tbody tr th {\n",
              "        vertical-align: top;\n",
              "    }\n",
              "\n",
              "    .dataframe thead th {\n",
              "        text-align: right;\n",
              "    }\n",
              "</style>\n",
              "<table border=\"1\" class=\"dataframe\">\n",
              "  <thead>\n",
              "    <tr style=\"text-align: right;\">\n",
              "      <th></th>\n",
              "      <th>lab</th>\n",
              "      <th>cap-shape</th>\n",
              "      <th>cap-surface</th>\n",
              "      <th>cap-color</th>\n",
              "      <th>bruises</th>\n",
              "      <th>odor</th>\n",
              "      <th>gill-attachment</th>\n",
              "      <th>gill-spacing</th>\n",
              "      <th>gill-size</th>\n",
              "      <th>gill-color</th>\n",
              "      <th>stalk-shape</th>\n",
              "      <th>stalk-root</th>\n",
              "      <th>stalk-surface-above-ring</th>\n",
              "      <th>stalk-surface-below-ring</th>\n",
              "      <th>stalk-color-above-ring</th>\n",
              "      <th>stalk-color-below-ring</th>\n",
              "      <th>veil-type</th>\n",
              "      <th>veil-color</th>\n",
              "      <th>ring-number</th>\n",
              "      <th>ring-type</th>\n",
              "      <th>spore-print-color</th>\n",
              "      <th>population</th>\n",
              "      <th>habitat</th>\n",
              "    </tr>\n",
              "  </thead>\n",
              "  <tbody>\n",
              "    <tr>\n",
              "      <th>0</th>\n",
              "      <td>1</td>\n",
              "      <td>5</td>\n",
              "      <td>2</td>\n",
              "      <td>4</td>\n",
              "      <td>1</td>\n",
              "      <td>6</td>\n",
              "      <td>1</td>\n",
              "      <td>0</td>\n",
              "      <td>1</td>\n",
              "      <td>4</td>\n",
              "      <td>0</td>\n",
              "      <td>3</td>\n",
              "      <td>2</td>\n",
              "      <td>2</td>\n",
              "      <td>7</td>\n",
              "      <td>7</td>\n",
              "      <td>0</td>\n",
              "      <td>2</td>\n",
              "      <td>1</td>\n",
              "      <td>4</td>\n",
              "      <td>2</td>\n",
              "      <td>3</td>\n",
              "      <td>5</td>\n",
              "    </tr>\n",
              "    <tr>\n",
              "      <th>1</th>\n",
              "      <td>0</td>\n",
              "      <td>5</td>\n",
              "      <td>2</td>\n",
              "      <td>9</td>\n",
              "      <td>1</td>\n",
              "      <td>0</td>\n",
              "      <td>1</td>\n",
              "      <td>0</td>\n",
              "      <td>0</td>\n",
              "      <td>4</td>\n",
              "      <td>0</td>\n",
              "      <td>2</td>\n",
              "      <td>2</td>\n",
              "      <td>2</td>\n",
              "      <td>7</td>\n",
              "      <td>7</td>\n",
              "      <td>0</td>\n",
              "      <td>2</td>\n",
              "      <td>1</td>\n",
              "      <td>4</td>\n",
              "      <td>3</td>\n",
              "      <td>2</td>\n",
              "      <td>1</td>\n",
              "    </tr>\n",
              "    <tr>\n",
              "      <th>2</th>\n",
              "      <td>0</td>\n",
              "      <td>0</td>\n",
              "      <td>2</td>\n",
              "      <td>8</td>\n",
              "      <td>1</td>\n",
              "      <td>3</td>\n",
              "      <td>1</td>\n",
              "      <td>0</td>\n",
              "      <td>0</td>\n",
              "      <td>5</td>\n",
              "      <td>0</td>\n",
              "      <td>2</td>\n",
              "      <td>2</td>\n",
              "      <td>2</td>\n",
              "      <td>7</td>\n",
              "      <td>7</td>\n",
              "      <td>0</td>\n",
              "      <td>2</td>\n",
              "      <td>1</td>\n",
              "      <td>4</td>\n",
              "      <td>3</td>\n",
              "      <td>2</td>\n",
              "      <td>3</td>\n",
              "    </tr>\n",
              "    <tr>\n",
              "      <th>3</th>\n",
              "      <td>1</td>\n",
              "      <td>5</td>\n",
              "      <td>3</td>\n",
              "      <td>8</td>\n",
              "      <td>1</td>\n",
              "      <td>6</td>\n",
              "      <td>1</td>\n",
              "      <td>0</td>\n",
              "      <td>1</td>\n",
              "      <td>5</td>\n",
              "      <td>0</td>\n",
              "      <td>3</td>\n",
              "      <td>2</td>\n",
              "      <td>2</td>\n",
              "      <td>7</td>\n",
              "      <td>7</td>\n",
              "      <td>0</td>\n",
              "      <td>2</td>\n",
              "      <td>1</td>\n",
              "      <td>4</td>\n",
              "      <td>2</td>\n",
              "      <td>3</td>\n",
              "      <td>5</td>\n",
              "    </tr>\n",
              "    <tr>\n",
              "      <th>4</th>\n",
              "      <td>0</td>\n",
              "      <td>5</td>\n",
              "      <td>2</td>\n",
              "      <td>3</td>\n",
              "      <td>0</td>\n",
              "      <td>5</td>\n",
              "      <td>1</td>\n",
              "      <td>1</td>\n",
              "      <td>0</td>\n",
              "      <td>4</td>\n",
              "      <td>1</td>\n",
              "      <td>3</td>\n",
              "      <td>2</td>\n",
              "      <td>2</td>\n",
              "      <td>7</td>\n",
              "      <td>7</td>\n",
              "      <td>0</td>\n",
              "      <td>2</td>\n",
              "      <td>1</td>\n",
              "      <td>0</td>\n",
              "      <td>3</td>\n",
              "      <td>0</td>\n",
              "      <td>1</td>\n",
              "    </tr>\n",
              "  </tbody>\n",
              "</table>\n",
              "</div>"
            ],
            "text/plain": [
              "   lab  cap-shape  cap-surface  ...  spore-print-color  population  habitat\n",
              "0    1          5            2  ...                  2           3        5\n",
              "1    0          5            2  ...                  3           2        1\n",
              "2    0          0            2  ...                  3           2        3\n",
              "3    1          5            3  ...                  2           3        5\n",
              "4    0          5            2  ...                  3           0        1\n",
              "\n",
              "[5 rows x 23 columns]"
            ]
          },
          "metadata": {
            "tags": []
          },
          "execution_count": 12
        }
      ]
    },
    {
      "cell_type": "code",
      "metadata": {
        "id": "6Vwf_Hr9jEPI",
        "colab_type": "code",
        "outputId": "64b56214-3cb5-48bc-92f2-e86ffb866ea8",
        "colab": {
          "base_uri": "https://localhost:8080/",
          "height": 156
        }
      },
      "source": [
        "##separate label and features data\n",
        "dt_label = datas['lab']\n",
        "df_mushroom = datas.drop(['lab'],axis=1)\n",
        "##put data to Y \n",
        "Y = []\n",
        "for val in dt_label:\n",
        "    if(val == 1): ## val=1 poisonus\n",
        "        Y.append(-1)\n",
        "    else:\n",
        "        Y.append(1)\n",
        "print(df_mushroom.head())"
      ],
      "execution_count": 13,
      "outputs": [
        {
          "output_type": "stream",
          "text": [
            "   cap-shape  cap-surface  cap-color  ...  spore-print-color  population  habitat\n",
            "0          5            2          4  ...                  2           3        5\n",
            "1          5            2          9  ...                  3           2        1\n",
            "2          0            2          8  ...                  3           2        3\n",
            "3          5            3          8  ...                  2           3        5\n",
            "4          5            2          3  ...                  3           0        1\n",
            "\n",
            "[5 rows x 22 columns]\n"
          ],
          "name": "stdout"
        }
      ]
    },
    {
      "cell_type": "code",
      "metadata": {
        "id": "yyLAMVZFU_SF",
        "colab_type": "code",
        "colab": {
          "base_uri": "https://localhost:8080/",
          "height": 34
        },
        "outputId": "b3e57a0a-711d-4c04-8b80-0645295d7c50"
      },
      "source": [
        "##put data to X\n",
        "X = df_mushroom.values.tolist()\n",
        "\n",
        "## prepare variable\n",
        "x_train = []\n",
        "y_train = []\n",
        "x_test = []\n",
        "y_test = []\n",
        "\n",
        "##split data\n",
        "x_train, x_test, y_train, y_test = train_test_split(X, Y, train_size=0.8, random_state=10)\n",
        "\n",
        "##data leng for data training and testing\n",
        "lengt=len(df_mushroom)\n",
        "train_len= int(0.8*lengt)\n",
        "test_len=int( 0.2*lengt)+1\n",
        "\n",
        "x_train = np.array(x_train)\n",
        "y_train = np.array(y_train)\n",
        "x_test = np.array(x_test)\n",
        "y_test = np.array(y_test)\n",
        "\n",
        "y_train = y_train.reshape(train_len,1)\n",
        "y_test = y_test.reshape(test_len,1)\n",
        "print(\"length: \",lengt,\"---- training:\",train_len,\"----test:\",test_len)\n",
        "\n"
      ],
      "execution_count": 14,
      "outputs": [
        {
          "output_type": "stream",
          "text": [
            "length:  8124 ---- training: 6499 ----test: 1625\n"
          ],
          "name": "stdout"
        }
      ]
    },
    {
      "cell_type": "markdown",
      "metadata": {
        "id": "3Jo5Mn5PZjLU",
        "colab_type": "text"
      },
      "source": [
        "\n",
        "\n",
        "##Evaluation Function"
      ]
    },
    {
      "cell_type": "code",
      "metadata": {
        "id": "P6hnRw4oZn1U",
        "colab_type": "code",
        "colab": {}
      },
      "source": [
        "from sklearn.metrics import classification_report, confusion_matrix\n",
        "from sklearn.metrics import accuracy_score\n",
        "def evaluate (y_test,predictions):\n",
        "  print (\"Accuracy Score\")\n",
        "  print(accuracy_score(y_test,predictions))\n",
        "  print (\"Confusion Matrix\")\n",
        "  print(confusion_matrix(y_test, predictions))\n",
        "  print (\"Classification report\")\n",
        "  print(classification_report(y_test, predictions))"
      ],
      "execution_count": 0,
      "outputs": []
    },
    {
      "cell_type": "markdown",
      "metadata": {
        "id": "llrn7fZXZMSO",
        "colab_type": "text"
      },
      "source": [
        "##SVM Function"
      ]
    },
    {
      "cell_type": "code",
      "metadata": {
        "id": "4IgJFR6ED0ZF",
        "colab_type": "code",
        "colab": {}
      },
      "source": [
        "def svm_f( x_train, x_test, y_train, y_test, train_len,test_len,alpa,epoc):\n",
        "  training=[]\n",
        "  ##train_fx & training reshape \n",
        "  for col in range(x_train.shape[1]):\n",
        "    training.append(x_train[:,col].reshape(train_len,1))\n",
        "  ##make w array (zeros) \n",
        "  w_zeros=[]\n",
        "  for x in training:\n",
        "    w_zeros.append(np.zeros((train_len,1)))\n",
        "  epochs = 1\n",
        "  alpha = alpa\n",
        "  while(epochs < epoc):\n",
        "    ##sum of array in w_zeros*array in training\n",
        "    sumval = None \n",
        "    for xw,yt in zip(w_zeros, training):\n",
        "      xy=xw*yt\n",
        "      if sumval is None:\n",
        "       y1=xy\n",
        "      else:\n",
        "        y1= y1 + xy\n",
        "      sumval =y1 \n",
        "    prod = sumval * y_train\n",
        "    count = 0\n",
        "    for val in prod:\n",
        "      if(val >= 1):\n",
        "        cost = 0\n",
        "        for i in range(len(w_zeros)):\n",
        "         w_zeros[i]= w_zeros[i] - alpha * (2 * 1/epochs * w_zeros[i])\n",
        "      else:\n",
        "        cost = 1 - val\n",
        "        for i in range(len(w_zeros)):\n",
        "         w_zeros[i]= w_zeros[i] + alpha * (training[i][count] * y_train[count] - 2 * 1/epochs * w_zeros[i])\n",
        "      count += 1\n",
        "    epochs += 1\n",
        "  ## Clipping weights  and reshape array\n",
        "  index = list(range(test_len,train_len))\n",
        "  for i in range(len(w_zeros)):\n",
        "    w_zeros[i]=np.delete(w_zeros[i],index)\n",
        "    w_zeros[i] = w_zeros[i].reshape(test_len,1)\n",
        "  ## Extract the test data features \n",
        "  testing=[]\n",
        "  for col in range(x_test.shape[1]):\n",
        "    testing.append(x_test[:,col].reshape(test_len,1))\n",
        "  ## Predict\n",
        "  pred_val = None \n",
        "  for xw,yt in zip(w_zeros, testing):\n",
        "    xy=xw*yt\n",
        "    if pred_val is None:\n",
        "      y1=xy\n",
        "    else:\n",
        "      y1= y1 + xy\n",
        "    pred_val =y1 \n",
        "  #add prediction result into list\n",
        "  predictions = []\n",
        "  for val in pred_val:\n",
        "      if(val > 1):\n",
        "          predictions.append(1)\n",
        "      else:\n",
        "          predictions.append(-1)\n",
        "  evaluate(y_test,predictions)     \n",
        "\n"
      ],
      "execution_count": 0,
      "outputs": []
    },
    {
      "cell_type": "markdown",
      "metadata": {
        "id": "3BYk9Sl0ECbZ",
        "colab_type": "text"
      },
      "source": [
        "##SVM  with alpha= 0.002 and epoch =500"
      ]
    },
    {
      "cell_type": "code",
      "metadata": {
        "id": "iDtvDUngEA1L",
        "colab_type": "code",
        "outputId": "ca1c10cd-0fd0-45ce-b7ba-3c79e8692c46",
        "colab": {
          "base_uri": "https://localhost:8080/",
          "height": 278
        }
      },
      "source": [
        "alpa=0.002\n",
        "epoc=500\n",
        "svm_f( x_train, x_test, y_train, y_test, train_len,test_len,alpa,epoc)"
      ],
      "execution_count": 6,
      "outputs": [
        {
          "output_type": "stream",
          "text": [
            "Accuracy Score\n",
            "0.7015384615384616\n",
            "Confusion Matrix\n",
            "[[662 102]\n",
            " [383 478]]\n",
            "Classification report\n",
            "              precision    recall  f1-score   support\n",
            "\n",
            "          -1       0.63      0.87      0.73       764\n",
            "           1       0.82      0.56      0.66       861\n",
            "\n",
            "    accuracy                           0.70      1625\n",
            "   macro avg       0.73      0.71      0.70      1625\n",
            "weighted avg       0.73      0.70      0.70      1625\n",
            "\n"
          ],
          "name": "stdout"
        }
      ]
    },
    {
      "cell_type": "markdown",
      "metadata": {
        "id": "GfMAPjpGEN1W",
        "colab_type": "text"
      },
      "source": [
        "##SVM  with alpha= 0.001 and epoch =1000"
      ]
    },
    {
      "cell_type": "code",
      "metadata": {
        "id": "yXdS9mbCEFrf",
        "colab_type": "code",
        "outputId": "96726061-ff0c-4c6f-dc41-de914100ac79",
        "colab": {
          "base_uri": "https://localhost:8080/",
          "height": 278
        }
      },
      "source": [
        "alpa=0.001\n",
        "epoc=1000\n",
        "svm_f( x_train, x_test, y_train, y_test, train_len,test_len,alpa,epoc)"
      ],
      "execution_count": 7,
      "outputs": [
        {
          "output_type": "stream",
          "text": [
            "Accuracy Score\n",
            "0.5329230769230769\n",
            "Confusion Matrix\n",
            "[[  5 759]\n",
            " [  0 861]]\n",
            "Classification report\n",
            "              precision    recall  f1-score   support\n",
            "\n",
            "          -1       1.00      0.01      0.01       764\n",
            "           1       0.53      1.00      0.69       861\n",
            "\n",
            "    accuracy                           0.53      1625\n",
            "   macro avg       0.77      0.50      0.35      1625\n",
            "weighted avg       0.75      0.53      0.37      1625\n",
            "\n"
          ],
          "name": "stdout"
        }
      ]
    },
    {
      "cell_type": "markdown",
      "metadata": {
        "id": "VMMi4favERLz",
        "colab_type": "text"
      },
      "source": [
        "##SVM  with alpha= 0.0005 and epoch =2000"
      ]
    },
    {
      "cell_type": "code",
      "metadata": {
        "id": "mWz6c1NeEUHZ",
        "colab_type": "code",
        "outputId": "523b38fb-e521-4ee7-f964-4a3617ab53c3",
        "colab": {
          "base_uri": "https://localhost:8080/",
          "height": 278
        }
      },
      "source": [
        "alpa=0.0005\n",
        "epoc=2000\n",
        "svm_f( x_train, x_test, y_train, y_test, train_len,test_len,alpa,epoc)"
      ],
      "execution_count": 8,
      "outputs": [
        {
          "output_type": "stream",
          "text": [
            "Accuracy Score\n",
            "0.8215384615384616\n",
            "Confusion Matrix\n",
            "[[713  51]\n",
            " [239 622]]\n",
            "Classification report\n",
            "              precision    recall  f1-score   support\n",
            "\n",
            "          -1       0.75      0.93      0.83       764\n",
            "           1       0.92      0.72      0.81       861\n",
            "\n",
            "    accuracy                           0.82      1625\n",
            "   macro avg       0.84      0.83      0.82      1625\n",
            "weighted avg       0.84      0.82      0.82      1625\n",
            "\n"
          ],
          "name": "stdout"
        }
      ]
    },
    {
      "cell_type": "markdown",
      "metadata": {
        "colab_type": "text",
        "id": "mqrQ9t6pRa1g"
      },
      "source": [
        "##SVM  with alpha= 0.0002 and epoch =5000"
      ]
    },
    {
      "cell_type": "code",
      "metadata": {
        "colab_type": "code",
        "outputId": "035e0c9f-bb54-43a3-c8a9-65a9b7a66771",
        "id": "G7EszwOoRa1w",
        "colab": {
          "base_uri": "https://localhost:8080/",
          "height": 278
        }
      },
      "source": [
        "alpa=0.0002\n",
        "epoc=5000\n",
        "svm_f( x_train, x_test, y_train, y_test, train_len,test_len,alpa,epoc)"
      ],
      "execution_count": 9,
      "outputs": [
        {
          "output_type": "stream",
          "text": [
            "Accuracy Score\n",
            "0.9132307692307692\n",
            "Confusion Matrix\n",
            "[[654 110]\n",
            " [ 31 830]]\n",
            "Classification report\n",
            "              precision    recall  f1-score   support\n",
            "\n",
            "          -1       0.95      0.86      0.90       764\n",
            "           1       0.88      0.96      0.92       861\n",
            "\n",
            "    accuracy                           0.91      1625\n",
            "   macro avg       0.92      0.91      0.91      1625\n",
            "weighted avg       0.92      0.91      0.91      1625\n",
            "\n"
          ],
          "name": "stdout"
        }
      ]
    },
    {
      "cell_type": "markdown",
      "metadata": {
        "colab_type": "text",
        "id": "Ev0xau8hRcic"
      },
      "source": [
        "##SVM  with alpha= 0.0001 and epoch =10000"
      ]
    },
    {
      "cell_type": "code",
      "metadata": {
        "colab_type": "code",
        "outputId": "b6363f5e-45fb-4e7d-f3a0-7deab30be619",
        "id": "tgRrhHDVRcip",
        "colab": {
          "base_uri": "https://localhost:8080/",
          "height": 278
        }
      },
      "source": [
        "alpa=0.0001\n",
        "epoc=10000\n",
        "svm_f( x_train, x_test, y_train, y_test, train_len,test_len,alpa,epoc)"
      ],
      "execution_count": 10,
      "outputs": [
        {
          "output_type": "stream",
          "text": [
            "Accuracy Score\n",
            "0.9563076923076923\n",
            "Confusion Matrix\n",
            "[[747  17]\n",
            " [ 54 807]]\n",
            "Classification report\n",
            "              precision    recall  f1-score   support\n",
            "\n",
            "          -1       0.93      0.98      0.95       764\n",
            "           1       0.98      0.94      0.96       861\n",
            "\n",
            "    accuracy                           0.96      1625\n",
            "   macro avg       0.96      0.96      0.96      1625\n",
            "weighted avg       0.96      0.96      0.96      1625\n",
            "\n"
          ],
          "name": "stdout"
        }
      ]
    },
    {
      "cell_type": "markdown",
      "metadata": {
        "id": "oHZERxgO3f18",
        "colab_type": "text"
      },
      "source": [
        "##Result if Using Scikit SVM Library"
      ]
    },
    {
      "cell_type": "code",
      "metadata": {
        "id": "xMdTZhHb3lDp",
        "colab_type": "code",
        "outputId": "49653f0f-f1b6-4b0a-f74a-fc8fbcd5ab01",
        "colab": {
          "base_uri": "https://localhost:8080/",
          "height": 332
        }
      },
      "source": [
        "from sklearn import svm\n",
        "sv_f = svm.SVC(kernel='linear') # Linear Kernel\n",
        "sv_f.fit(x_train, y_train)\n",
        "y_pred = sv_f.predict(x_test)\n",
        "evaluate(y_test, y_pred)\n"
      ],
      "execution_count": 11,
      "outputs": [
        {
          "output_type": "stream",
          "text": [
            "/usr/local/lib/python3.6/dist-packages/sklearn/utils/validation.py:760: DataConversionWarning: A column-vector y was passed when a 1d array was expected. Please change the shape of y to (n_samples, ), for example using ravel().\n",
            "  y = column_or_1d(y, warn=True)\n"
          ],
          "name": "stderr"
        },
        {
          "output_type": "stream",
          "text": [
            "Accuracy Score\n",
            "0.9790769230769231\n",
            "Confusion Matrix\n",
            "[[742  22]\n",
            " [ 12 849]]\n",
            "Classification report\n",
            "              precision    recall  f1-score   support\n",
            "\n",
            "          -1       0.98      0.97      0.98       764\n",
            "           1       0.97      0.99      0.98       861\n",
            "\n",
            "    accuracy                           0.98      1625\n",
            "   macro avg       0.98      0.98      0.98      1625\n",
            "weighted avg       0.98      0.98      0.98      1625\n",
            "\n"
          ],
          "name": "stdout"
        }
      ]
    }
  ]
}